{
 "cells": [
  {
   "cell_type": "markdown",
   "id": "b384c190",
   "metadata": {},
   "source": []
  },
  {
   "cell_type": "markdown",
   "id": "500fa05a",
   "metadata": {},
   "source": [
    "# 2장 노트정리\n",
    "\n",
    "이 파일은 4장 학습하면서 실행한 내용을 정리한 것이다.\n",
    "\n",
    "날짜: 2025.9.10\n",
    "\n",
    "학번: 202311428\n",
    "\n",
    "저자: 이은선"
   ]
  },
  {
   "cell_type": "markdown",
   "id": "270e3f87",
   "metadata": {},
   "source": [
    "## 기본 입출력 함수"
   ]
  },
  {
   "cell_type": "markdown",
   "id": "a6c78a13",
   "metadata": {},
   "source": [
    "### print() 함수\n",
    "\n",
    "숫자나 문자열 등의 데이터나 수식을 화면에 출력할 때 사용"
   ]
  },
  {
   "cell_type": "markdown",
   "id": "6218ca5f",
   "metadata": {},
   "source": [
    "```py\n",
    ">>> print(10+20) #( ) 속의연산결과출력\n",
    "30\n",
    ">>> print(\"동양미래대학교\") #문자열출력\n",
    "동양미래대학교\n",
    ">>> print(\"abc \" * 3) #문자열3번출력\n",
    "abc abc abc\n",
    ">>> x = 25\n",
    ">>> y = 32\n",
    ">>> z = x + y\n",
    ">>> print(x, y) #변수x, y 값출력\n",
    "25 32\n",
    ">>> print(x, '+', y, '=',z) #문자열과변수의조합출력\n",
    "25 + 32 = 57\n",
    "```"
   ]
  },
  {
   "cell_type": "markdown",
   "id": "cc73cfd1",
   "metadata": {},
   "source": [
    "### print() 함수-서식 지정\n",
    "\n",
    "숫자나 문자열 등의 데이터를 서식을 지정하여 화면에 출력할 때 사용"
   ]
  },
  {
   "cell_type": "markdown",
   "id": "4c63a74e",
   "metadata": {},
   "source": [
    "```py\n",
    ">>> print(10+20)\n",
    "30\n",
    ">>> print(\"10\"+\"20\") #문자열잇기\n",
    "1020\n",
    ">>> print(\"abc \" * 3) #문자열3번출력\n",
    "abc abc abc\n",
    ">>> n = 10\n",
    ">>> print(\"n=%d\" %n) #서식지정출력\n",
    "n=10\n",
    ">>> m = 5.2\n",
    ">>> print(\"m=%.1f, n=%d\" %(m,n)) #%.1f = 소솟점1자리까지표시\n",
    "m=5.2, n=10\n",
    "```"
   ]
  },
  {
   "cell_type": "markdown",
   "id": "a8dcc695",
   "metadata": {},
   "source": [
    "### input() 함수\n",
    "\n",
    "- 키보드를 이용하여 숫자나 문자열 등의 데이터를 입력 받을 때 사용\n",
    "\n",
    "- 입력된 정보는 문자열"
   ]
  },
  {
   "cell_type": "markdown",
   "id": "a62f2d30",
   "metadata": {},
   "source": [
    "```py\n",
    ">>> n = input('type a number : ')\n",
    "type a number : 3\n",
    ">>> n #문자열로입력된다\n",
    "'3'\n",
    ">>> int(n) #문자열을정수로변환\n",
    "3\n",
    ">>> float(n) #문자열을실수형으로변환\n",
    "3.0\n",
    ">>> n = str(3) #정수를문자열로변환\n",
    ">>> n\n",
    "'3'\n",
    "```"
   ]
  },
  {
   "cell_type": "markdown",
   "id": "7c8dddb6",
   "metadata": {},
   "source": [
    "### 입출력 함수의 사용 예"
   ]
  },
  {
   "cell_type": "markdown",
   "id": "bea6773c",
   "metadata": {},
   "source": [
    "#### 문자열을 입력 받아 다른 문자열과 결합하여 출력"
   ]
  },
  {
   "cell_type": "markdown",
   "id": "68b468c5",
   "metadata": {},
   "source": [
    "```py\n",
    "name = input('Name: ')\n",
    "print(\"Hello,\" + name)\n",
    "```"
   ]
  },
  {
   "cell_type": "markdown",
   "id": "aa70a8d9",
   "metadata": {},
   "source": [
    "#### 두 정수를 입력 받아 곱셈 결과 출력"
   ]
  },
  {
   "cell_type": "markdown",
   "id": "e014a72a",
   "metadata": {},
   "source": [
    "```py\n",
    "a = int(input('Number 1: '))\n",
    "b = int(input('Number 2: '))\n",
    "print(a * b)\n",
    "```"
   ]
  },
  {
   "cell_type": "markdown",
   "id": "64a0693e",
   "metadata": {},
   "source": [
    "#### 섭씨온도(C)를 입력 받아 화씨온도(F)로 바꾸어 출력"
   ]
  },
  {
   "cell_type": "markdown",
   "id": "6e410c5c",
   "metadata": {},
   "source": [
    "```py\n",
    "C = float(input(\"Type 섭씨온도: \")) \n",
    "F = C*9/5 + 32 #온도변환\n",
    "print(\"화씨온도는\", F)\n",
    "```"
   ]
  },
  {
   "cell_type": "markdown",
   "id": "514cec0c",
   "metadata": {},
   "source": [
    "## 기본 자료형"
   ]
  },
  {
   "cell_type": "markdown",
   "id": "64aa402a",
   "metadata": {},
   "source": [
    "### 부울형(Boolean)\n",
    "\n",
    "- 참(True) 또는 거짓(False) 중 하나의 값을 갖는 자료형(True, False)\n",
    "\n",
    "- 비교 결과를 저장할 때 사용"
   ]
  },
  {
   "cell_type": "markdown",
   "id": "54a9078b",
   "metadata": {},
   "source": [
    "```py\n",
    ">>> aVar = True\n",
    ">>> bVar = False\n",
    ">>> type(aVar)\n",
    "<class 'bool'>\n",
    ">>> a = 1\n",
    ">>> b = 2\n",
    ">>> c = a > b\n",
    ">>> c\n",
    "False\n",
    ">>> d = a < b\n",
    ">>> d\n",
    "True\n",
    "```"
   ]
  },
  {
   "cell_type": "markdown",
   "id": "79bba9be",
   "metadata": {},
   "source": [
    "### 정수(integer)형"
   ]
  },
  {
   "cell_type": "markdown",
   "id": "fd716cfb",
   "metadata": {},
   "source": [
    "#### 소수점 없는 숫자 표현"
   ]
  },
  {
   "cell_type": "markdown",
   "id": "10cf15ba",
   "metadata": {},
   "source": [
    "```py\n",
    ">>> intVar = 5\n",
    ">>> type(intVar)\n",
    "<class 'int'>\n",
    "```"
   ]
  },
  {
   "cell_type": "markdown",
   "id": "64ac1fad",
   "metadata": {},
   "source": [
    "#### 여러 가지 정수 표현"
   ]
  },
  {
   "cell_type": "markdown",
   "id": "97e33b13",
   "metadata": {},
   "source": [
    "1, 23, 3493 # 10진수\n",
    "\n",
    "0b010101, 0b110010 # 2진수\n",
    "\n",
    "0o1, 0o27, 0o6645 # 8진수\n",
    "\n",
    "0x1, 0x17, 0xDA5 # 16진수"
   ]
  },
  {
   "cell_type": "markdown",
   "id": "e24d6715",
   "metadata": {},
   "source": [
    "### 실수(float)형"
   ]
  },
  {
   "cell_type": "markdown",
   "id": "0d718c38",
   "metadata": {},
   "source": [
    "```py\n",
    ">>> fVar = 1.0\n",
    ">>> type(fVar)\n",
    "<class 'float'>\n",
    "# 여러가지실수표현\n",
    "0., 0.0, .0, 1., 1.0, 1e0, 1.e0, 1.0e2\n",
    "```"
   ]
  },
  {
   "cell_type": "markdown",
   "id": "444908fd",
   "metadata": {},
   "source": [
    "### 쉽게 식별할 수 있도록 _를 사용한 숫자의 표현(파이썬3.6 부터적용)"
   ]
  },
  {
   "cell_type": "markdown",
   "id": "ef9e9b43",
   "metadata": {},
   "source": [
    "```py\n",
    ">>> 100_000.000_0001, 0x_FF_FF, 0o7_777, 0b_1010_1010\n",
    "(100000.0000001, 65535, 4095, 170)\n",
    ">>> 0.00_10_27\n",
    "0.001027\n",
    "```"
   ]
  },
  {
   "cell_type": "markdown",
   "id": "0f388284",
   "metadata": {},
   "source": [
    "### 문자열(string)\n",
    "\n",
    "- 나열된 문자들\n",
    "\n",
    "- ''또는 \"\"로 둘러 쌈"
   ]
  },
  {
   "cell_type": "markdown",
   "id": "46a64d52",
   "metadata": {},
   "source": [
    "```py\n",
    ">>> strVar = \"test\"\n",
    ">>> type(strVar)\n",
    "<class 'str'>\n",
    "'This is a literal string'\n",
    "\"This is another string\"\n",
    "\"I'm a Python fanatic\" #\"\" 속에작은따옴표를사용할경우\n",
    "'I\"m a Python fanatic' #'' 속에큰따옴표를사용할경우\n",
    "'A not very long string \\ #문장을두줄이상으로표시할경우\n",
    "that spans two lines'\n",
    "```"
   ]
  },
  {
   "cell_type": "markdown",
   "id": "dec083b8",
   "metadata": {},
   "source": [
    "## 연산"
   ]
  },
  {
   "cell_type": "markdown",
   "id": "73a26bfa",
   "metadata": {},
   "source": [
    "### 지정 연산자(assignment operator); 할당연산자"
   ]
  },
  {
   "cell_type": "markdown",
   "id": "57b1c040",
   "metadata": {},
   "source": [
    "```py\n",
    "i = 3\n",
    "i = i + 2\n",
    "# 변수의 값을 지정하기 위해 사용(=)\n",
    "```"
   ]
  },
  {
   "cell_type": "markdown",
   "id": "1630655b",
   "metadata": {},
   "source": [
    "### 산술 연산자(arithmetic operator)\n",
    "\n",
    "- 사칙연산자: +, -, *, /\n",
    "\n",
    "- 정수나눗셈: //\n",
    "\n",
    "- 나머지연산: %"
   ]
  },
  {
   "cell_type": "markdown",
   "id": "7c5f0afa",
   "metadata": {},
   "source": [
    "```py\n",
    "a = 10\n",
    "b = 3\n",
    "c = a % b # 1\n",
    "d = a // b # 3\n",
    "e = a / b # 3.3333333333333335\n",
    "```"
   ]
  },
  {
   "cell_type": "markdown",
   "id": "0f8e4615",
   "metadata": {},
   "source": [
    "### 관계 연산자(relation operator)\n",
    "\n",
    "- 비교연산자\n",
    "\n",
    "- 항의 대소관계 또는 동등관계 판정\n",
    "\n",
    "- 연산결과는 True(참) 또는 False(거짓)"
   ]
  },
  {
   "cell_type": "markdown",
   "id": "a6d560d2",
   "metadata": {},
   "source": [
    "```py\n",
    "score = 95\n",
    "print(score >= 90) # True\n",
    "print(score < 80) # False\n",
    "print(score == 90) # False\n",
    "print(score != 80) # True\n",
    "```"
   ]
  },
  {
   "cell_type": "markdown",
   "id": "c1b4e871",
   "metadata": {},
   "source": [
    "### 논리연산자(logical operator)\n",
    "\n",
    "- 논리곱(and), 논리합(or), 논리부정(not)\n",
    "\n",
    "- 논리 연산의 대상은 True 또는 False. 결과도True 또는 False"
   ]
  },
  {
   "cell_type": "markdown",
   "id": "7fc10542",
   "metadata": {},
   "source": [
    "```py\n",
    ">>> exam = 85\n",
    ">>> report = 85\n",
    ">>> exam >= 80 and report >= 80\n",
    "True\n",
    ">>> exam >= 90 or report >= 90\n",
    "False\n",
    ">>> not(exam < 90)\n",
    "False\n",
    "```"
   ]
  },
  {
   "cell_type": "markdown",
   "id": "a29ab270",
   "metadata": {},
   "source": [
    "### 멤버연산자(membership operator)\n",
    "\n",
    "- in\n",
    "\n",
    "- 특정 문자열 또는 값이 문자열 또는 리스트(반복객체)에 속해 있는지 판별하는 연산자"
   ]
  },
  {
   "cell_type": "markdown",
   "id": "5159589c",
   "metadata": {},
   "source": [
    "```py\n",
    ">>> 'py' in 'python'\n",
    "True\n",
    ">>> 'ty' not in 'python'\n",
    "True\n",
    "```"
   ]
  },
  {
   "cell_type": "markdown",
   "id": "c0eb4c44",
   "metadata": {},
   "source": [
    "### 식별연산자(identity operator)\n",
    "\n",
    "- is : 양쪽 변수의 주소가 같은지 판단. if id(a) == id(b)\n",
    "\n",
    "- is not : 양쪽 변수의 주소가 다른지 판단. if id(a) != id(b)"
   ]
  },
  {
   "cell_type": "markdown",
   "id": "3edd5dfb",
   "metadata": {},
   "source": [
    "```py\n",
    ">>> a = 2\n",
    ">>> b = 2\n",
    ">>> id(a)\n",
    "1921220752\n",
    ">>> id(b)\n",
    "1921220752\n",
    "\n",
    ">>> id(a) == id(b)\n",
    "True\n",
    ">>> a is b\n",
    "True\n",
    ">>> a is not b\n",
    "False\n",
    "```"
   ]
  },
  {
   "cell_type": "markdown",
   "id": "1c935d00",
   "metadata": {},
   "source": [
    "### 타입 에러(type error)\n",
    "\n",
    "연산할 수 없는 자료형을 연산하면 타입 에러 발생"
   ]
  },
  {
   "cell_type": "markdown",
   "id": "dfeef311",
   "metadata": {},
   "source": [
    "```py\n",
    "age = 23\n",
    "message = \"Happy \" + age + \"rd Birthday!\"\n",
    "print(message)\n",
    "Traceback (most recent call last):\n",
    "File \"birthday.py\", line 2, in <module> ➊\n",
    "message = \"Happy \" + age + \"rd Birthday!\"\n",
    "TypeError: Can't convert 'int' object to str implicitly ➋\n",
    "# 에러발생위치\n",
    "# 에러내용; int 형을암시적으로문자열로변환할수없음\n",
    "```"
   ]
  },
  {
   "cell_type": "markdown",
   "id": "a1770e1d",
   "metadata": {},
   "source": []
  }
 ],
 "metadata": {
  "kernelspec": {
   "display_name": ".venv (3.13.3)",
   "language": "python",
   "name": "python3"
  },
  "language_info": {
   "codemirror_mode": {
    "name": "ipython",
    "version": 3
   },
   "file_extension": ".py",
   "mimetype": "text/x-python",
   "name": "python",
   "nbconvert_exporter": "python",
   "pygments_lexer": "ipython3",
   "version": "3.13.3"
  }
 },
 "nbformat": 4,
 "nbformat_minor": 5
}
