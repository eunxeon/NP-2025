{
 "cells": [
  {
   "cell_type": "markdown",
   "id": "7d0e42c3",
   "metadata": {},
   "source": [
    "## 2장 산술 및 관계 연산자 연습문제"
   ]
  },
  {
   "cell_type": "markdown",
   "id": "13766c23",
   "metadata": {},
   "source": [
    "### 1. 5와3을 더한 값을 출력하는 프로그램을 작성하라."
   ]
  },
  {
   "cell_type": "markdown",
   "id": "389ddab7",
   "metadata": {},
   "source": [
    "### 2. 7에서 3을 뺀 값을 출력하는 프로그램을 작성하라."
   ]
  },
  {
   "cell_type": "markdown",
   "id": "d93ca6a2",
   "metadata": {},
   "source": [
    "### 3. 4를 2로 나눈 값을 출력하는 프로그램을 작성하라."
   ]
  },
  {
   "cell_type": "markdown",
   "id": "9130eaa8",
   "metadata": {},
   "source": [
    "### 4. 8을 3으로 나눈 몫과 나머지를 출력하는 프로그램을 작성하라."
   ]
  },
  {
   "cell_type": "markdown",
   "id": "b99fd4a7",
   "metadata": {},
   "source": [
    "### 5. 2의 5제곱을 출력하는 프로그램을 작성하라."
   ]
  },
  {
   "cell_type": "markdown",
   "id": "dc872656",
   "metadata": {},
   "source": [
    "### 6. 입력된 정수가 10보다 크고 20보다 작은지 검사하는 프로그램을 작성하라."
   ]
  },
  {
   "cell_type": "markdown",
   "id": "940f669f",
   "metadata": {},
   "source": [
    "### 7. 문자열\"hello\"와 문자열\"world\"를 이어붙인 결과를 출력하는 프로그램을 작성하라."
   ]
  },
  {
   "cell_type": "markdown",
   "id": "884f9991",
   "metadata": {},
   "source": [
    "### 8. 7을 2로 나눈 결과가 3보다 작은지 검사하는 프로그램을 작성하라."
   ]
  },
  {
   "cell_type": "markdown",
   "id": "fb3c4858",
   "metadata": {},
   "source": [
    "### 9. 변수 x의 값이 5와 같지 않은지 검사하는 프로그램을 작성하라."
   ]
  },
  {
   "cell_type": "markdown",
   "id": "41e35c8d",
   "metadata": {},
   "source": [
    "### 10. 변수 y의 값이 10에서 20 사이의 값인지 검사하는 프로그램을 작성하라"
   ]
  },
  {
   "cell_type": "markdown",
   "id": "57a210f8",
   "metadata": {},
   "source": []
  }
 ],
 "metadata": {
  "language_info": {
   "name": "python"
  }
 },
 "nbformat": 4,
 "nbformat_minor": 5
}
