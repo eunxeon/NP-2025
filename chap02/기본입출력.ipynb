{
 "cells": [
  {
   "cell_type": "markdown",
   "id": "9c402caa",
   "metadata": {},
   "source": [
    "# 2장 기본입출력 연습문제1"
   ]
  },
  {
   "cell_type": "markdown",
   "id": "f4d766dd",
   "metadata": {},
   "source": [
    "### 1. 키보드에서 임의의 두 실수를 입력 받아 곱한 후 그 결과를 출력하는 프로그램을 작성하고 실행하라"
   ]
  },
  {
   "cell_type": "code",
   "execution_count": null,
   "id": "f15c1e40",
   "metadata": {},
   "outputs": [],
   "source": [
    "# 두 실수를 입력받아 곱하기\n",
    "a = float(input(\"첫 번째 실수를 입력하세요: \"))\n",
    "b = float(input(\"두 번째 실수를 입력하세요: \"))\n",
    "\n",
    "result = a * b\n",
    "print(\"곱셈 결과:\", result)"
   ]
  },
  {
   "cell_type": "markdown",
   "id": "c2641f35",
   "metadata": {},
   "source": [
    "### 2. 1마일은1.609km이다. 키보드에서마일(정수)을 입력 받아 km로 변환해 출력하는 프로그램을 작성하고 실행하라"
   ]
  },
  {
   "cell_type": "code",
   "execution_count": null,
   "id": "af7fd37a",
   "metadata": {},
   "outputs": [],
   "source": [
    "# 마일을 km로 변환\n",
    "mile = int(input(\"마일을 입력하세요: \"))\n",
    "km = mile * 1.609\n",
    "print(f\"{mile} 마일은 {km} km 입니다.\")\n"
   ]
  },
  {
   "cell_type": "markdown",
   "id": "36bb1cbf",
   "metadata": {},
   "source": [
    "### 3. 원의 반지름을 입력 받아 원의 둘레와 원의 면적을 출력하는 프로그램을 작성하라"
   ]
  },
  {
   "cell_type": "code",
   "execution_count": null,
   "id": "2fb84147",
   "metadata": {},
   "outputs": [],
   "source": [
    "import math\n",
    "\n",
    "# 반지름 입력받기\n",
    "r = float(input(\"원의 반지름을 입력하세요: \"))\n",
    "\n",
    "circumference = 2 * math.pi * r   # 원의 둘레\n",
    "area = math.pi * r**2            # 원의 면적\n",
    "\n",
    "print(f\"반지름 {r}인 원의 둘레: {circumference}\")\n",
    "print(f\"반지름 {r}인 원의 면적: {area}\")\n"
   ]
  },
  {
   "cell_type": "markdown",
   "id": "5d72105b",
   "metadata": {},
   "source": []
  }
 ],
 "metadata": {
  "kernelspec": {
   "display_name": ".venv (3.13.3)",
   "language": "python",
   "name": "python3"
  },
  "language_info": {
   "name": "python",
   "version": "3.13.3"
  }
 },
 "nbformat": 4,
 "nbformat_minor": 5
}
