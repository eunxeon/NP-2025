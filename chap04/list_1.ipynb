{
 "cells": [
  {
   "cell_type": "markdown",
   "id": "b6518cf0",
   "metadata": {},
   "source": [
    "# 4장 리스트 연습문제 1"
   ]
  },
  {
   "cell_type": "markdown",
   "id": "c8f2905f",
   "metadata": {},
   "source": [
    "#"
   ]
  },
  {
   "cell_type": "markdown",
   "id": "e67c1f1b",
   "metadata": {},
   "source": [
    "### 3명 이상 친구 이름 리스트를 작성하고 다음 내용을 프로그램하시오.\n",
    "\n",
    "- insert()로 맨 앞에 새로운 친구 추가\n",
    "\n",
    "- insert()로 3번째 위치에 새로운 친구 추가\n",
    "\n",
    "- append()로 마지막에 친구 추가"
   ]
  },
  {
   "cell_type": "code",
   "execution_count": 11,
   "id": "e8a49cba",
   "metadata": {},
   "outputs": [
    {
     "name": "stdout",
     "output_type": "stream",
     "text": [
      "친구 리스트 결과: ['지수', '철수', '태호', '영희', '민수', '수빈']\n"
     ]
    }
   ],
   "source": [
    "# 3명 이상 친구 이름 리스트\n",
    "friends = [\"철수\", \"영희\", \"민수\"]   \n",
    "\n",
    "# 맨 앞에 새로운 친구 추가\n",
    "friends.insert(0, \"지수\")\n",
    "\n",
    "# 3번째 위치에 새로운 친구 추가\n",
    "friends.insert(2, \"태호\")\n",
    "\n",
    "# 마지막에 친구 추가\n",
    "friends.append(\"수빈\")\n",
    "\n",
    "print(\"친구 리스트 결과:\", friends)"
   ]
  },
  {
   "cell_type": "markdown",
   "id": "ce0bfd7e",
   "metadata": {},
   "source": [
    "### 리스트 [1,2,3]에 대해 다음과 같은 처리를 하라.\n",
    "\n",
    "- 두 번째 요소를 17로 수정\n",
    "\n",
    "- 리스트에 4,5,6을 추가\n",
    "\n",
    "- 첫 번째 요소 제거\n",
    "\n",
    "- 리스트를 요소 순서대로 배열하기\n",
    "\n",
    "- 인덱스 3에 25넣기"
   ]
  },
  {
   "cell_type": "code",
   "execution_count": 12,
   "id": "a85325ec",
   "metadata": {},
   "outputs": [
    {
     "name": "stdout",
     "output_type": "stream",
     "text": [
      "최종 리스트 결과: [3, 4, 5, 25, 6, 17]\n"
     ]
    }
   ],
   "source": [
    "# 리스트 [1,2,3]\n",
    "nums = [1, 2, 3]\n",
    "\n",
    "# 두 번째 요소를 17로 수정\n",
    "nums[1] = 17\n",
    "\n",
    "# 리스트에 4, 5, 6 추가\n",
    "nums.extend([4, 5, 6])\n",
    "\n",
    "# 첫 번째 요소 제거\n",
    "nums.pop(0)\n",
    "\n",
    "# 리스트를 요소 순서대로 배열하기\n",
    "nums.sort()\n",
    "\n",
    "# 인덱스 3에 25 넣기\n",
    "nums.insert(3, 25)\n",
    "\n",
    "print(\"최종 리스트 결과:\", nums)\n"
   ]
  },
  {
   "cell_type": "markdown",
   "id": "592b3f82",
   "metadata": {},
   "source": []
  }
 ],
 "metadata": {
  "kernelspec": {
   "display_name": ".venv (3.13.3)",
   "language": "python",
   "name": "python3"
  },
  "language_info": {
   "codemirror_mode": {
    "name": "ipython",
    "version": 3
   },
   "file_extension": ".py",
   "mimetype": "text/x-python",
   "name": "python",
   "nbconvert_exporter": "python",
   "pygments_lexer": "ipython3",
   "version": "3.13.3"
  }
 },
 "nbformat": 4,
 "nbformat_minor": 5
}
