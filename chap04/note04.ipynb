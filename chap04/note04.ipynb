{
 "cells": [
  {
   "cell_type": "markdown",
   "id": "b788e1fe",
   "metadata": {},
   "source": [
    "# 4장 노트정리\n",
    "\n",
    "이 파일은 4장 학습하면서 실행한 내용을 정리한 것이다.\n",
    "\n",
    "날짜: 2025.9.10\n",
    "\n",
    "학번: 202311428\n",
    "\n",
    "저자: 이은선"
   ]
  },
  {
   "cell_type": "markdown",
   "id": "ac836b5d",
   "metadata": {},
   "source": [
    "\n",
    "### 파이썬 자료 구조\n",
    "\n",
    "**자료구조(data sructure)란?**\n",
    "\n",
    " -자료를 표현하고 처리하기 위해 사용되는 구조\n",
    "\n",
    " -자료를 효율적으로 처리하고 저장하는 데 사용\n",
    "\n",
    "**파이썬에서 사용되는 기본 자료 구조**\n",
    "\n",
    " -문자열(string): str = 'abcde' 홑/곁 따옴표로 묶인 문자열\n",
    "\n",
    " -리스트(list): list = [1,2,3,4] 순서가 있는 원소(객체)의 목록\n",
    "\n",
    " -튜플(tuple): tuple = (1,2,3) 불변한 데이터의 쌍\n",
    "\n",
    " -딕셔너리(dictionary): dic = {'a':1, 'b':23, 'c':32} 유일한 키로 이루어진 키:값의 집합\n",
    "\n",
    " -집합(set): set = {1,5,3,2} 유일한 값들의 집합"
   ]
  },
  {
   "cell_type": "markdown",
   "id": "6aa1b8f0",
   "metadata": {},
   "source": [
    "## 문자열\n",
    "\n",
    "### 문자열의 구조\n",
    " -다수의 문자를 표현하기 위한 자료구조\n",
    "\n",
    " -''또는 \"\"로 둘러싼다: \"abc\", 'hello'\n",
    "\n",
    " -'''(\"\"\")부터 '''(\"\"\")까지 문자: 문자열이 두 줄 이상일 때 주로 사용"
   ]
  },
  {
   "cell_type": "markdown",
   "id": "be8e7bdf",
   "metadata": {},
   "source": [
    "### 문자열 요소(문자)를 개별적으로 사용하기-index"
   ]
  },
  {
   "cell_type": "markdown",
   "id": "3af8d0d8",
   "metadata": {},
   "source": [
    "```python\n",
    ">>> word = 'Python'\n",
    ">>> word[0] #위치(첨자) 0의 문자. 인덱스는 0부터 시작\n",
    "'P'\n",
    ">>> word[5] #인덱스 5의 문자\n",
    "'n'\n",
    "```"
   ]
  },
  {
   "cell_type": "markdown",
   "id": "560809f8",
   "metadata": {},
   "source": [
    "```python\n",
    ">>> word = 'Python'\n",
    ">>> word[-1]    #마지막 문자. 마지막은 -1로 표시\n",
    "'n'\n",
    ">>> word[-6]    #뒤에서 6번째 문자\n",
    "'P'\n",
    "```"
   ]
  },
  {
   "cell_type": "markdown",
   "id": "6abb3ff0",
   "metadata": {},
   "source": [
    "### 문자열 슬라이싱(잘라내기)"
   ]
  },
  {
   "cell_type": "markdown",
   "id": "1a51c310",
   "metadata": {},
   "source": [
    "```python\n",
    ">>> word = 'Python'\n",
    ">>> word[0:2]   #첨자 0부터 1(=2-1)까지\n",
    "'Py'\n",
    ">>> word[2:5]   #첨자 2부터 4(=5-1)까지\n",
    "'tho'\n",
    ">>> word[:2]    #첨자 0부터 1까지의 문자\n",
    "'Py'\n",
    ">>> word[4:]    #첨자 4부터 끝까지\n",
    "'on'\n",
    ">>> word[-2:]   #첨자 -2에서 끝까지 문자열\n",
    "'on'\n",
    "```"
   ]
  },
  {
   "cell_type": "markdown",
   "id": "1ba8d0f9",
   "metadata": {},
   "source": [
    "```python\n",
    ">>> word = 'Python'\n",
    ">>> word[:2]    #처음부터 1까지 슬라이싱\n",
    "'Py'\n",
    ">>> word[2:]    #2부터 끝까지\n",
    "'thon'\n",
    ">>> word[:2]+word[2:]   #문자열 합치기\n",
    "'Python'\n",
    "```"
   ]
  },
  {
   "cell_type": "markdown",
   "id": "1f84888a",
   "metadata": {},
   "source": [
    "### 문자열 인덱싱과 슬라이싱 오류"
   ]
  },
  {
   "cell_type": "markdown",
   "id": "17be3427",
   "metadata": {},
   "source": [
    "```python\n",
    ">>> word[42]  #6개 문자로 구성되어 있을 때\n",
    "Traceback (most recent call last):\n",
    "  File \"<python-input-25>\", line 1, in <module>\n",
    "    word[42]\n",
    "    ~~~~^^^^\n",
    "IndexError: string index out of range\n",
    "```"
   ]
  },
  {
   "cell_type": "markdown",
   "id": "781384b0",
   "metadata": {},
   "source": [
    "```python\n",
    ">>> word[4:42]  #슬라이싱에서는 범위를 벗어나도 OK\n",
    "'on'\n",
    ">>> word[42:]   #범위를 벗어난 슬라이싱\n",
    "''\n",
    "```"
   ]
  },
  {
   "cell_type": "markdown",
   "id": "12183d91",
   "metadata": {},
   "source": [
    "### 문자열은 수정 불가-immutable"
   ]
  },
  {
   "cell_type": "markdown",
   "id": "8622ba93",
   "metadata": {},
   "source": [
    "```python\n",
    ">>> word[0] = 'J'\n",
    "Traceback (most recent call last):\n",
    "  File \"<python-input-32>\", line 1, in <module>\n",
    "    word[0] = 'J'\n",
    "    ~~~~^^^\n",
    "TypeError: 'str' object does not support item assignment\n",
    "```"
   ]
  },
  {
   "cell_type": "markdown",
   "id": "a6769681",
   "metadata": {},
   "source": [
    "### 슬라이싱을 이용하여 새로운 문자열 만들기"
   ]
  },
  {
   "cell_type": "markdown",
   "id": "6056dc04",
   "metadata": {},
   "source": [
    "```python\n",
    ">>> word = 'Python'\n",
    ">>> word2 = 'J' + word[1:]  #+를 이용한 문자열 합치기\n",
    ">>> word2\n",
    "'Jython'\n",
    "```"
   ]
  },
  {
   "cell_type": "markdown",
   "id": "8e9fa13d",
   "metadata": {},
   "source": [
    "### 문자열 길이 확인-len()"
   ]
  },
  {
   "cell_type": "markdown",
   "id": "0e76173f",
   "metadata": {},
   "source": [
    "```python\n",
    ">>> s = 'smiles'\n",
    ">>> len(s)\n",
    "6\n",
    "```"
   ]
  },
  {
   "cell_type": "markdown",
   "id": "1286710a",
   "metadata": {},
   "source": [
    "### index를 이용하여 문자열의 문자를 역순으로 만들기"
   ]
  },
  {
   "cell_type": "code",
   "execution_count": null,
   "id": "914c97a1",
   "metadata": {},
   "outputs": [
    {
     "name": "stdout",
     "output_type": "stream",
     "text": [
      "Reversed string: k\n"
     ]
    }
   ],
   "source": [
    "##변수 초기화 부분##\n",
    "outStr = \"\" #출력 문자열(빈 문자열)\n",
    "count, i = 0,0\n",
    "\n",
    "##메인 코드 부분##\n",
    "inStr = input(\"Type string: \")\n",
    "count = len(inStr) #문자열 길이\n",
    "\n",
    "for i in range(0, count):\n",
    "    outStr += inStr[count - (i + 1)] #마지막 문자부터 추출하여 합치기\n",
    "print(\"Reversed string: %s\" % outStr)"
   ]
  },
  {
   "cell_type": "markdown",
   "id": "b0c22f5f",
   "metadata": {},
   "source": [
    "### 문자열에서 문자 조사하기 -in/not in 연산자(멤버 연산자)"
   ]
  },
  {
   "cell_type": "markdown",
   "id": "091de529",
   "metadata": {},
   "source": [
    "```python\n",
    ">>> 'a' in 'cat'\n",
    "True\n",
    ">>> 'a' not in 'can'\n",
    "False\n",
    "```"
   ]
  },
  {
   "cell_type": "markdown",
   "id": "65e1fc71",
   "metadata": {},
   "source": [
    "### 문자열과 메소드-dir(str), help(str.method)\n",
    "\n",
    "-파이썬은 객체지향 언어이므로 객체(object)가 많이 사용된다.\n",
    "\n",
    "-객체는 변수와 함수를 묶은 것이다. 문자열도 객체다.\n",
    "\n",
    "-객체와 관련된 함수를 메소드라 하며 객체.함수()로 호출한다."
   ]
  },
  {
   "cell_type": "markdown",
   "id": "eaff7cfa",
   "metadata": {},
   "source": [
    "### 문자열 구성 파악하기\n",
    "\n",
    "'123'.isdigit() : 문자열이 숫자인가?\n",
    "\n",
    "'abcABC'.isalpha() : 문자열이 문자인가?\n",
    "\n",
    "'Ab122'.isalnum() : 문자열이 문자+숫자 혼합인가?\n",
    "\n",
    "'AB'.isupper() : 문자열이 대소문자인가?\n",
    "\n",
    "'ab'.islower() : 문자열이 소문자인가?\n",
    "\n",
    "''.isspace() : 문자열이 공백인가?"
   ]
  },
  {
   "cell_type": "markdown",
   "id": "c480b187",
   "metadata": {},
   "source": [
    "### 문자열을 대소문자로 변환하기\n",
    "\n",
    "str = 'Python programing is easy!'\n",
    "\n",
    "str.upper() : 대문자로 변환\n",
    "\n",
    "str.lower() : 소문자로 변환\n",
    "\n",
    "str.swapcase() : 대소문자 바꾸기\n",
    "\n",
    "str.title : 첫 글자만 대문자로 변환"
   ]
  },
  {
   "cell_type": "markdown",
   "id": "0db1d8ba",
   "metadata": {},
   "source": [
    "### 문자열 찾기"
   ]
  },
  {
   "cell_type": "markdown",
   "id": "9a5fd944",
   "metadata": {},
   "source": [
    "```python\n",
    ">>> str = 'Python programming is easy!'\n",
    ">>> str.count('i')  #문자열에서 문자 'i'의 개수\n",
    "2\n",
    ">>> str.find('o')   #문자열에서 'o'의 처음 위치. 없으면 -1 반환\n",
    "4\n",
    ">>> str.rfind('o')  #문자열에서 'o'가 나오는 가장 나중 위치\n",
    "9\n",
    ">>> str.index('on') #문자열에서 'on'의 처음 위치. 없으면 ValueError\n",
    "4\n",
    "```"
   ]
  },
  {
   "cell_type": "markdown",
   "id": "7d77f042",
   "metadata": {},
   "source": [
    "### 문자열 분리하기"
   ]
  },
  {
   "cell_type": "markdown",
   "id": "57705059",
   "metadata": {},
   "source": [
    "```python\n",
    ">>> x = 'a bc'  #a와 b 사이에 공백이 있다.\n",
    ">>> x.split()   #공백을 기준으로 분리\n",
    "['a', 'bc']\n",
    ">>> x.split('b')    #문자열을 ()속의 문자로 분리한다.\n",
    "['a ', 'c'] #분리문자 'b'는 제외됨\n",
    "```"
   ]
  },
  {
   "cell_type": "markdown",
   "id": "e27f8df1",
   "metadata": {},
   "source": [
    "### 문자열에서 공백 제거하기"
   ]
  },
  {
   "cell_type": "markdown",
   "id": "cf2ff33e",
   "metadata": {},
   "source": [
    "```python\n",
    ">>> str = ' hello '\n",
    ">>> str.strip() #양쪽에서 공백 제거\n",
    "'hello'\n",
    ">>> str #원래 문자열은 변하지 않는다.\n",
    "' hello '\n",
    ">>> str.rstrip()    #오른쪽 공백 제거\n",
    "' hello'\n",
    ">>> str.lstrip()    #왼쪽 공백 제거\n",
    "'hello '\n",
    "```"
   ]
  },
  {
   "cell_type": "markdown",
   "id": "63ce7698",
   "metadata": {},
   "source": [
    "### 문자열 결합하기"
   ]
  },
  {
   "cell_type": "markdown",
   "id": "cf28c009",
   "metadata": {},
   "source": [
    "```python\n",
    ">>> '*'.join('hello')   # * 와 문자열의 각 문자를 하나씩 결합한 문자열 생성\n",
    "'h*e*l*l*o'\n",
    "```"
   ]
  },
  {
   "cell_type": "markdown",
   "id": "cca078a7",
   "metadata": {},
   "source": [
    "### 문자열 채우기"
   ]
  },
  {
   "cell_type": "markdown",
   "id": "26199a4d",
   "metadata": {},
   "source": [
    "```python\n",
    ">>> '12'.zfill(5)   #문자열 '12'의 왼쪽을 0으로 채워 5자리로 만든다.\n",
    "'00012'\n",
    "```"
   ]
  },
  {
   "cell_type": "markdown",
   "id": "ccd9cc5f",
   "metadata": {},
   "source": [
    "### 문자열 정렬하기"
   ]
  },
  {
   "cell_type": "markdown",
   "id": "ebc0bd05",
   "metadata": {},
   "source": [
    "```python\n",
    ">>> 'he'.rjust(5)   #5자리를 오른쪽으로 정렬\n",
    "'   he'\n",
    ">>> 'he'.ljust(5)   #5자리를 왼쪽으로 정렬\n",
    "'he   '\n",
    ">>> 'he'.center(5)  #5자리를 가운데로 정렬\n",
    "'  he '\n",
    "```"
   ]
  },
  {
   "cell_type": "markdown",
   "id": "96bd8713",
   "metadata": {},
   "source": [
    "## 리스트"
   ]
  },
  {
   "cell_type": "markdown",
   "id": "cfd42c30",
   "metadata": {},
   "source": [
    "### 리스트는 여러 개의 데이터를 하나의 이름으로 저장하는 자료 구조"
   ]
  },
  {
   "cell_type": "markdown",
   "id": "585ac519",
   "metadata": {},
   "source": [
    "```python\n",
    ">>> odd = [1,3,5,7,9]   #[]를 이용하여 리스트 생성\n",
    ">>> squares = [1,4,9,16,25]\n",
    ">>> squares\n",
    "[1, 4, 9, 16, 25]\n",
    ">>> empty = []  #공백 리스트. empty = list()\n",
    ">>> empty\n",
    "[]\n",
    ">>> a = [1,'hello',2,'world',1.23]  #리스트 요소는 어떤 것이라도 가능\n",
    ">>> a\n",
    "[1, 'hello', 2, 'world', 1.23]\n",
    "```"
   ]
  },
  {
   "cell_type": "markdown",
   "id": "8c9354a3",
   "metadata": {},
   "source": [
    "### 리스트의 인덱싱(요소 접근하기)과 슬라이싱(잘라내기)"
   ]
  },
  {
   "cell_type": "markdown",
   "id": "bfd82e1a",
   "metadata": {},
   "source": [
    "```python\n",
    ">>> squares = [1,4,9,16,25] \n",
    ">>> squares[0]  #리스트 요소 추출하기(인덱싱은 0부터)\n",
    "1\n",
    ">>> squares[-1] #마지막 요소\n",
    "25\n",
    ">>> squares[0:3]    #0부터 (3-1)까지 잘라내기\n",
    "[1, 4, 9]\n",
    ">>> squares[-3:]    #뒤에서 3번째부터 마지막까지 잘라내기\n",
    "[9, 16, 25]\n",
    "```"
   ]
  },
  {
   "cell_type": "markdown",
   "id": "55b629f4",
   "metadata": {},
   "source": [
    "### 리스트 합치기"
   ]
  },
  {
   "cell_type": "markdown",
   "id": "85802a3b",
   "metadata": {},
   "source": [
    "```python\n",
    ">>> squares + [36,49,64,81,100] #리스트 합치기\n",
    "[1, 4, 9, 16, 25, 36, 49, 64, 81, 100]\n",
    ">>> a = [1,2,3]\n",
    ">>> b = [4,5,6]\n",
    ">>> a + b   #리스트 합치기\n",
    "[1, 2, 3, 4, 5, 6]\n",
    "```"
   ]
  },
  {
   "cell_type": "markdown",
   "id": "42be0830",
   "metadata": {},
   "source": [
    "### 리스트의 요소 수정, 추가하기"
   ]
  },
  {
   "cell_type": "markdown",
   "id": "bb39b5c5",
   "metadata": {},
   "source": [
    "```python\n",
    "#수정하기\n",
    ">>> cubes = [1,8,27,65,125] #세제곱수\n",
    ">>> 4**3    #4의 세제곱은 64!\n",
    "64\n",
    ">>> cubes[3] = 64   #리스트 요소 수정하기\n",
    ">>> cubes   #수정된 리스트\n",
    "[1, 8, 27, 64, 125]\n",
    "\n",
    "#마지막에 요소 추가하기\n",
    ">>> cubes.append(216)   #마지막에 리스트 요소 추가하기\n",
    ">>> cubes.append(7**3)  #마지막에 리스트 요소 추가하기\n",
    ">>> cubes\n",
    "[1, 8, 27, 64, 125, 216, 343]\n",
    "\n",
    "#요소 수정하기\n",
    ">>> letters = ['a','b','c','d','e','f','g']\n",
    ">>> letters\n",
    "['a', 'b', 'c', 'd', 'e', 'f', 'g']\n",
    ">>> letters[2:5] = ['C','D','E']    #리스트 요소 수정\n",
    ">>> letters\n",
    "['a', 'b', 'C', 'D', 'E', 'f', 'g']\n",
    ">>> letters[2:5] = []   #리스트 요소 제거\n",
    ">>> letters\n",
    "['a', 'b', 'f', 'g']\n",
    ">>> letters[:] = [] #리스트 요소를 모두 제거\n",
    ">>> letters\n",
    "[]\n",
    "```"
   ]
  },
  {
   "cell_type": "markdown",
   "id": "a53d97a0",
   "metadata": {},
   "source": [
    "### 중첩 리스트"
   ]
  },
  {
   "cell_type": "markdown",
   "id": "86c1ced0",
   "metadata": {},
   "source": [
    "```python\n",
    ">>> a = ['a','b','c']\n",
    ">>> n = [1,2,3]\n",
    ">>> x = [a,n]\n",
    ">>> x\n",
    "[['a', 'b', 'c'], [1, 2, 3]]    #리스트 요소가 리스트이다.\n",
    ">>> x[0]\n",
    "['a', 'b', 'c']\n",
    ">>> x[0][1] #중첩 리스트 요소 지정\n",
    "'b'\n",
    "```"
   ]
  },
  {
   "cell_type": "markdown",
   "id": "dadfd85c",
   "metadata": {},
   "source": [
    "### 2차원 리스트"
   ]
  },
  {
   "cell_type": "markdown",
   "id": "8d41c9df",
   "metadata": {},
   "source": [
    "```python\n",
    ">>> list2d = [[1,2,3],  #배열을 나타낼 때 편리\n",
    "... [4,5,6],\n",
    "... [7,8,9]]\n",
    ">>> list2d[0][0]\n",
    "1\n",
    ">>> list2d[2][2]\n",
    "9\n",
    "```"
   ]
  },
  {
   "cell_type": "markdown",
   "id": "7e0ea85b",
   "metadata": {},
   "source": [
    "### 내장 함수를 이용한 리스트 다루기"
   ]
  },
  {
   "cell_type": "markdown",
   "id": "3b1bab71",
   "metadata": {},
   "source": [
    "```python\n",
    "#리스트 길이 알아내기\n",
    ">>> letters = ['a','b','c','d']\n",
    ">>> len(letters)\n",
    "4\n",
    "\n",
    "#리스트 요소 합, 최소값, 최대값 구하기\n",
    ">>> num = [1,2,3,4,5]\n",
    ">>> sum(num)\n",
    "15\n",
    ">>> min(num)\n",
    "1\n",
    ">>> max(num)\n",
    "5\n",
    "```"
   ]
  },
  {
   "cell_type": "markdown",
   "id": "507726dc",
   "metadata": {},
   "source": [
    "### 리스트 메소드(List.Method)"
   ]
  },
  {
   "cell_type": "markdown",
   "id": "bd63646e",
   "metadata": {},
   "source": [
    "```python\n",
    "#사용법 확인하기(예시)\n",
    ">>> help(list.sort)\n",
    "Help on method_descriptor:\n",
    "\n",
    "sort(self, /, *, key=None, reverse=False) unbound builtins.list method\n",
    "    Sort the list in ascending order and return None.\n",
    "\n",
    "    The sort is in-place (i.e. the list itself is modified) and stable (i.e. the\n",
    "    order of two equal elements is maintained).\n",
    "\n",
    "    If a key function is given, apply it once to each list item and sort them,\n",
    "    ascending or descending, according to their function values.\n",
    "\n",
    "    The reverse flag can be set to sort in descending order.\n",
    "```"
   ]
  },
  {
   "cell_type": "markdown",
   "id": "e12bcb31",
   "metadata": {},
   "source": [
    "### 리스트 요소 순서 나열"
   ]
  },
  {
   "cell_type": "code",
   "execution_count": null,
   "id": "68927f07",
   "metadata": {},
   "outputs": [
    {
     "name": "stdout",
     "output_type": "stream",
     "text": [
      "['bus', 'sedan', 'taxi', 'truck']\n",
      "['truck', 'taxi', 'sedan', 'bus']\n",
      "Here is the original list:\n",
      "['truck', 'taxi', 'sedan', 'bus']\n",
      "\n",
      "Here is the sorted list:\n",
      "['bus', 'sedan', 'taxi', 'truck']\n",
      "\n",
      "Here is the original list again:\n",
      "['truck', 'taxi', 'sedan', 'bus']\n"
     ]
    }
   ],
   "source": [
    "cars = ['taxi', 'sedan', 'bus', 'truck']\n",
    "cars.sort() #오름차순으로배열\n",
    "print(cars)\n",
    "\n",
    "cars.sort(reverse=True) #역순배열\n",
    "print(cars)\n",
    "\n",
    "print(\"Here is the original list:\")\n",
    "print(cars)\n",
    "print(\"\\nHere is the sorted list:\")\n",
    "print(sorted(cars)) #오름차순으로 배열한 리스트를 따로 생성\n",
    "print(\"\\nHere is the original list again:\")\n",
    "print(cars)"
   ]
  },
  {
   "cell_type": "markdown",
   "id": "51e23437",
   "metadata": {},
   "source": [
    "### 리스트 역순으로 출력하기"
   ]
  },
  {
   "cell_type": "markdown",
   "id": "0557796b",
   "metadata": {},
   "source": [
    "```python\n",
    ">>> cars = ['taxi', 'sedan', 'bus', 'truck ']\n",
    ">>> print(cars)\n",
    "['taxi', 'sedan', 'bus', 'truck ']\n",
    ">>> cars.reverse()  #원래 리스트의 요소 순서를 거꾸로 배열\n",
    ">>> print(cars)\n",
    "['truck ', 'bus', 'sedan', 'taxi']\n",
    "```"
   ]
  },
  {
   "cell_type": "markdown",
   "id": "afd13e2e",
   "metadata": {},
   "source": [
    "### 리스트 관련 에러"
   ]
  },
  {
   "cell_type": "markdown",
   "id": "a75568c5",
   "metadata": {},
   "source": [
    "```python\n",
    ">>> motorcycles = ['honda', 'yamaha', 'suzuki']\n",
    ">>> print(motorcycles[3])\n",
    "\n",
    "Traceback (most recent call last):\n",
    "  File \"<python-input-86>\", line 1, in <module>\n",
    "    print(motorcycles[3])\n",
    "          ~~~~~~~~~~~^^^\n",
    "IndexError: list index out of range #인덱스 범위 초과\n",
    "```"
   ]
  },
  {
   "cell_type": "markdown",
   "id": "4958a2b6",
   "metadata": {},
   "source": [
    "### 리스트 내포란?\n",
    "\n",
    " -리스트 안에 for문을 포함하여 한 줄로 리스트를 만드는 방법\n",
    "\n",
    " -[표현식 for 항목 in 반복객체]\n",
    "\n",
    " -[표현식 for 항목 in 반복객체 if 조건문]\n",
    " \n",
    " -[표현식 if 조건문 else 문장 for 항목 in 반복객체]"
   ]
  },
  {
   "cell_type": "markdown",
   "id": "0f0154dc",
   "metadata": {},
   "source": [
    "```python\n",
    "#a 원소의 3배수로 구성되는 리스트 생성\n",
    ">>> a = [1, 2, 3, 4]\n",
    ">>> result = [num*3 for num in a]\n",
    ">>> result\n",
    "[3, 6, 9, 12]\n",
    "\n",
    "#a의 원소 중 짝수인 원소의 3배수로 구성되는 리스트 생성\n",
    ">>> result = [num*3 for num in a if num % 2 == 0]\n",
    ">>> result\n",
    "[6, 12]\n",
    "\n",
    "#짝수의 2배수나 홀수의 제곱을 원소로 갖는 리스트 생성\n",
    ">>> [i*2 if i%2 == 0 else i**2 for i in range(10) ]\n",
    "[0, 1, 4, 9, 8, 25, 12, 49, 16, 81]\n",
    "```"
   ]
  },
  {
   "cell_type": "markdown",
   "id": "ec0f0120",
   "metadata": {},
   "source": [
    "## 튜플\n",
    "\n",
    "튜플은 리스트와 비슷한 자료구조이나 요소 값을 변경할 수 없다(immutable)"
   ]
  },
  {
   "cell_type": "markdown",
   "id": "d2275850",
   "metadata": {},
   "source": [
    "### 튜플 만들기"
   ]
  },
  {
   "cell_type": "markdown",
   "id": "396688fa",
   "metadata": {},
   "source": [
    "```python\n",
    ">>> t1 = (1,2,3)    #()속에 요소를 나열하여 만든다.\n",
    ">>> t1\n",
    "(1, 2, 3)\n",
    "\n",
    ">>> t2 = 1,2,3  #()없이 요소를 나열해서 만들 수도 있다. 패킹\n",
    ">>> t2\n",
    "(1, 2, 3)\n",
    "\n",
    ">>> t3 = 1, #요소가 한 개인 경우 ,를 붙인다.\n",
    ">>> t3\n",
    "(1,)\n",
    "\n",
    ">>> t4 = tuple()    #빈 튜플 생성\n",
    ">>> t4\n",
    "()\n",
    "```"
   ]
  },
  {
   "cell_type": "markdown",
   "id": "b3888491",
   "metadata": {},
   "source": [
    "### 튜플 요소 접근하기(인덱싱과 슬라이싱)"
   ]
  },
  {
   "cell_type": "markdown",
   "id": "ba7adedd",
   "metadata": {},
   "source": [
    "```py\n",
    ">>> t1 = (1,2,3)\n",
    ">>> t1[1]\n",
    "2\n",
    ">>> t1[1:3]\n",
    "(2, 3)\n",
    "```"
   ]
  },
  {
   "cell_type": "markdown",
   "id": "297e185a",
   "metadata": {},
   "source": [
    "### 튜플 연산"
   ]
  },
  {
   "cell_type": "markdown",
   "id": "7f20bcd3",
   "metadata": {},
   "source": [
    "```py\n",
    ">>> t1 = (1,2,3)\n",
    ">>> t2 = ('a','b')\n",
    ">>> t1 + t2 #두 개의 튜플을 하나로 합치기\n",
    "(1, 2, 3, 'a', 'b')\n",
    ">>> t1*2    #동일한 튜플을 하나 더 생성하여 합치기\n",
    "(1, 2, 3, 1, 2, 3)\n",
    "```"
   ]
  },
  {
   "cell_type": "markdown",
   "id": "127fffb5",
   "metadata": {},
   "source": [
    "### 튜플과 리스트 상호 변환"
   ]
  },
  {
   "cell_type": "markdown",
   "id": "bd0871f9",
   "metadata": {},
   "source": [
    "```py\n",
    ">>> T1 = (1,2,3)\n",
    ">>> L1 = list(T1)   #튜플을 리스트로 변환\n",
    ">>> L1.append(4)\n",
    ">>> T1 = tuple(L1)  #리스트를 튜플로 변환\n",
    ">>> T1\n",
    "(1, 2, 3, 4)\n",
    "```"
   ]
  },
  {
   "cell_type": "markdown",
   "id": "ab75a254",
   "metadata": {},
   "source": [
    "### 튜플 언패킹"
   ]
  },
  {
   "cell_type": "markdown",
   "id": "2fbf0738",
   "metadata": {},
   "source": [
    "```py\n",
    ">>> a, b, c = (1,2,3)   #튜플의 요소를 하나씩 변수에 할당\n",
    "\n",
    "#언패킹\n",
    ">>> a\n",
    "1\n",
    ">>> b\n",
    "2\n",
    ">>> c\n",
    "3\n",
    "```"
   ]
  },
  {
   "cell_type": "markdown",
   "id": "225138b9",
   "metadata": {},
   "source": [
    "## 딕셔너리\n",
    "\n",
    "-키(key):값(value)로 구성되는 자료 구조\n",
    " \n",
    "  -{key1:value1, key2:value2}\n",
    "  \n",
    "-키는 정수, 실수, 문자열, 튜플\n",
    "\n",
    "-값은 임의의 데이터형"
   ]
  },
  {
   "cell_type": "markdown",
   "id": "dad3bf0b",
   "metadata": {},
   "source": [
    "### 딕셔너리 생성"
   ]
  },
  {
   "cell_type": "markdown",
   "id": "904ca874",
   "metadata": {},
   "source": [
    "```py\n",
    ">>> height = {'Jun':174, 'Kim':170, 'Lee':165}  #{key:value}\n",
    ">>> height\n",
    "{'Jun': 174, 'Kim': 170, 'Lee': 165}\n",
    "\n",
    ">>> test = dict()   #빈 딕셔너리 생성, a = {}\n",
    ">>> test\n",
    "{}\n",
    "```"
   ]
  },
  {
   "cell_type": "markdown",
   "id": "c4c5d76b",
   "metadata": {},
   "source": [
    "### 딕셔너리 key 값 조사하기"
   ]
  },
  {
   "cell_type": "markdown",
   "id": "0018dfa4",
   "metadata": {},
   "source": [
    "```py\n",
    ">>> height['Kim']   #Dict[key]로 값 조사하기\n",
    "170\n",
    "```"
   ]
  },
  {
   "cell_type": "markdown",
   "id": "3625a3f5",
   "metadata": {},
   "source": [
    "### 딕셔너리 키 조사하기"
   ]
  },
  {
   "cell_type": "markdown",
   "id": "5fbee111",
   "metadata": {},
   "source": [
    "```py\n",
    ">>> height = {'Jun':174, 'Kim':170, 'Lee':165}\n",
    ">>> 'Kim' in height #in 연산자로 key가 있는지 조사\n",
    "True\n",
    "```"
   ]
  },
  {
   "cell_type": "markdown",
   "id": "ea6a46cb",
   "metadata": {},
   "source": [
    "### 딕셔너리 요소 수정, 추가하기"
   ]
  },
  {
   "cell_type": "markdown",
   "id": "a5e81018",
   "metadata": {},
   "source": [
    "```py\n",
    ">>> height['Lee'] = 180 #요소 수정하기\n",
    ">>> height\n",
    "{'Jun': 174, 'Kim': 170, 'Lee': 180}\n",
    "\n",
    ">>> height['lhm'] = 168 #요소 추가하기\n",
    ">>> height\n",
    "{'Jun': 174, 'Kim': 170, 'Lee': 180, 'lhm': 168}\n",
    "```"
   ]
  },
  {
   "cell_type": "markdown",
   "id": "00fa7321",
   "metadata": {},
   "source": [
    "### 딕셔너리의 키, 값, 요소를 뽑아내기"
   ]
  },
  {
   "cell_type": "markdown",
   "id": "32a24d55",
   "metadata": {},
   "source": [
    "```py\n",
    ">>> height.keys()   #키 뽑아내기\n",
    "dict_keys(['Jun', 'Kim', 'Lee', 'lhm']) #iterable(반복객체)이 반환됨\n",
    ">>> height.values() #값 뽑아내기\n",
    "dict_values([174, 170, 180, 168])\n",
    ">>> height.items()  #요소를 튜플로 분리하기\n",
    "dict_items([('Jun', 174), ('Kim', 170), ('Lee', 180), ('lhm', 168)])\n",
    "\n",
    "#뽑아낸 키를 리스트로 변환하기\n",
    ">>> dict_keys = height.keys()\n",
    ">>> keys_list = list(dict_keys)\n",
    ">>> keys_list\n",
    "['Jun', 'Kim', 'Lee', 'lhm']\n",
    "```"
   ]
  },
  {
   "cell_type": "markdown",
   "id": "8316367f",
   "metadata": {},
   "source": [
    "### 딕셔너리 요소 제거하기"
   ]
  },
  {
   "cell_type": "markdown",
   "id": "5cbb239e",
   "metadata": {},
   "source": [
    "```py\n",
    ">>> height.pop('lhm')\n",
    "168\n",
    ">>> height\n",
    "{'Jun': 174, 'Kim': 170, 'Lee': 180}\n",
    "```"
   ]
  },
  {
   "cell_type": "markdown",
   "id": "11eb0102",
   "metadata": {},
   "source": [
    "### 딕셔너리 지우기"
   ]
  },
  {
   "cell_type": "markdown",
   "id": "88fa468e",
   "metadata": {},
   "source": [
    "```py\n",
    ">>> height.clear()\n",
    ">>> height\n",
    "{}\n",
    "```"
   ]
  },
  {
   "cell_type": "markdown",
   "id": "e526988e",
   "metadata": {},
   "source": [
    "## 집합\n",
    "\n",
    "{} 속에 요소들을 중복되지 않고 순서없이 모아놓은 자료 구조"
   ]
  },
  {
   "cell_type": "markdown",
   "id": "08396842",
   "metadata": {},
   "source": [
    "### 집합의 생성"
   ]
  },
  {
   "cell_type": "markdown",
   "id": "14209b22",
   "metadata": {},
   "source": [
    "```py\n",
    ">>> numbers = {1,2,3}\n",
    ">>> name = set(['Kim', 'Lee', 'Park'])\n",
    "```"
   ]
  },
  {
   "cell_type": "markdown",
   "id": "395f8615",
   "metadata": {},
   "source": [
    "### 빈 집합 생성, 개수 확인, 요소 추가, 요소 제거하기"
   ]
  },
  {
   "cell_type": "markdown",
   "id": "b074a325",
   "metadata": {},
   "source": [
    "```py\n",
    ">>> empty = set()   #빈 집합 생성\n",
    ">>> numbers = {1,2,3}\n",
    ">>> len(numbers)\n",
    "3\n",
    ">>> numbers.add(4)  #요소 추가\n",
    ">>> numbers\n",
    "{1, 2, 3, 4}\n",
    ">>> numbers.remove(4)   #요소 제거\n",
    ">>> numbers\n",
    "{1, 2, 3}\n",
    "```"
   ]
  },
  {
   "cell_type": "markdown",
   "id": "2d54d481",
   "metadata": {},
   "source": [
    "### 집합의 연산"
   ]
  },
  {
   "cell_type": "markdown",
   "id": "10960a41",
   "metadata": {},
   "source": [
    "```py\n",
    ">>> setA = {1,2,3}\n",
    ">>> setB = {2,3,4}\n",
    ">>> setA & setB #교집합. setA.intersection(setB)\n",
    "{2, 3}\n",
    ">>> setA | setB #합집합. setA.union(setB)\n",
    "{1, 2, 3, 4}\n",
    ">>> setA - setB #차집합. setA에서setB 요소를뺀나머지. setA.difference(setB)\n",
    "{1}\n",
    "```"
   ]
  },
  {
   "cell_type": "markdown",
   "id": "c69cb220",
   "metadata": {},
   "source": [
    "### 부분 집합 연산"
   ]
  },
  {
   "cell_type": "markdown",
   "id": "213c2bc7",
   "metadata": {},
   "source": [
    "```py\n",
    ">>> setA = {1,2,3}\n",
    ">>> setB = {1,2,3}\n",
    ">>> setA == setB    #두 개의 집합이 같은가?\n",
    "True\n",
    ">>> setA = {1,2,3,4,5,6}\n",
    ">>> setB = {1,2,3}\n",
    ">>> setB < setA #집합 B가 집합 A의 부분집합인가?\n",
    "True\n",
    ">>> setB.issubset(setA) #집합 B가 집합 A의 부분집합인가?\n",
    "True\n",
    "```"
   ]
  },
  {
   "cell_type": "markdown",
   "id": "1189f39f",
   "metadata": {},
   "source": [
    "### 1부터 45까지의 수 중에서 6개를 선택하여 로또 번호를 만드는 프로그램"
   ]
  },
  {
   "cell_type": "code",
   "execution_count": 12,
   "id": "c3db7358",
   "metadata": {},
   "outputs": [
    {
     "name": "stdout",
     "output_type": "stream",
     "text": [
      "{1, 34, 43, 25, 26, 27}\n",
      "[1, 25, 26, 27, 34, 43]\n"
     ]
    }
   ],
   "source": [
    "import random\n",
    "pick = set()    #빈집합\n",
    "while len(pick) < 6:\n",
    "    n = random.randint(1,45)    #랜덤넘버생성\n",
    "    if n not in pick:\n",
    "        pick.add(n) #집합에요소추가\n",
    "print(pick)\n",
    "print(sorted(pick)) #순서대로나열된집합출력"
   ]
  }
 ],
 "metadata": {
  "kernelspec": {
   "display_name": ".venv (3.13.3)",
   "language": "python",
   "name": "python3"
  },
  "language_info": {
   "codemirror_mode": {
    "name": "ipython",
    "version": 3
   },
   "file_extension": ".py",
   "mimetype": "text/x-python",
   "name": "python",
   "nbconvert_exporter": "python",
   "pygments_lexer": "ipython3",
   "version": "3.13.3"
  }
 },
 "nbformat": 4,
 "nbformat_minor": 5
}
