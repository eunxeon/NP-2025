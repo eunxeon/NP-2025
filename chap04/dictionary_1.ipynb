{
 "cells": [
  {
   "cell_type": "markdown",
   "id": "b6518cf0",
   "metadata": {},
   "source": [
    "# 4장 딕셔너리 연습문제 1"
   ]
  },
  {
   "cell_type": "markdown",
   "id": "c8f2905f",
   "metadata": {},
   "source": [
    "#"
   ]
  },
  {
   "cell_type": "markdown",
   "id": "e67c1f1b",
   "metadata": {},
   "source": [
    "### 다음딕셔너리에대해물음에답하라.days = {'January':31, 'February':28, 'March':31, 'April':30,'May':31, 'June':30, 'July':31, 'August':31,'September':30, 'October':31, 'November':30, 'December':31}\n",
    "\n",
    "- 사용자가월을입력하면해당월에일수를출력하라\n",
    "\n",
    "- 알파벳순서로모든월을출력하라\n",
    "\n",
    "- 일수가31인월을모두출력하라\n",
    "\n",
    "- 월의일수를기준으로오름차순으로(key-value) 쌍을출력하라\n",
    "\n",
    "- 사용자가월을3자리만입력하면월의일수를출력하라.(Jan, Feb 등)"
   ]
  },
  {
   "cell_type": "code",
   "execution_count": 1,
   "id": "e8a49cba",
   "metadata": {},
   "outputs": [
    {
     "name": "stdout",
     "output_type": "stream",
     "text": [
      "해당 월이 존재하지 않습니다.\n",
      "\n",
      "알파벳 순서의 월:\n",
      "April August December February January July June March May November October September \n",
      "\n",
      "일수가 31일인 월:\n",
      "January March May July August October December \n",
      "\n",
      "일수 기준 오름차순 정렬 (key-value 쌍):\n",
      "February 28\n",
      "April 30\n",
      "June 30\n",
      "September 30\n",
      "November 30\n",
      "January 31\n",
      "March 31\n",
      "May 31\n",
      "July 31\n",
      "August 31\n",
      "October 31\n",
      "December 31\n"
     ]
    }
   ],
   "source": [
    "# 월과 일수 딕셔너리\n",
    "days = {\n",
    "    'January': 31, 'February': 28, 'March': 31, 'April': 30,\n",
    "    'May': 31, 'June': 30, 'July': 31, 'August': 31,\n",
    "    'September': 30, 'October': 31, 'November': 30, 'December': 31\n",
    "}\n",
    "\n",
    "# 1) 사용자 입력 → 해당 월의 일수 출력\n",
    "month = input(\"월 이름을 입력하세요 (예: March 또는 Mar): \")\n",
    "\n",
    "# 5) 3자리만 입력한 경우 처리\n",
    "if len(month) == 3:  # 앞 3글자로 비교\n",
    "    for key in days:\n",
    "        if key.startswith(month):\n",
    "            print(f\"{key}의 일수는 {days[key]}일입니다.\")\n",
    "            break\n",
    "else:\n",
    "    if month in days:\n",
    "        print(f\"{month}의 일수는 {days[month]}일입니다.\")\n",
    "    else:\n",
    "        print(\"해당 월이 존재하지 않습니다.\")\n",
    "\n",
    "\n",
    "# 2) 알파벳 순서로 모든 월 출력\n",
    "print(\"\\n알파벳 순서의 월:\")\n",
    "for m in sorted(days.keys()):\n",
    "    print(m, end=\" \")\n",
    "print()\n",
    "\n",
    "\n",
    "# 3) 일수가 31인 월 출력\n",
    "print(\"\\n일수가 31일인 월:\")\n",
    "for m, d in days.items():\n",
    "    if d == 31:\n",
    "        print(m, end=\" \")\n",
    "print()\n",
    "\n",
    "\n",
    "# 4) 월의 일수를 기준으로 오름차순 출력\n",
    "print(\"\\n일수 기준 오름차순 정렬 (key-value 쌍):\")\n",
    "for m, d in sorted(days.items(), key=lambda x: x[1]):\n",
    "    print(m, d)\n"
   ]
  }
 ],
 "metadata": {
  "kernelspec": {
   "display_name": ".venv (3.13.3)",
   "language": "python",
   "name": "python3"
  },
  "language_info": {
   "codemirror_mode": {
    "name": "ipython",
    "version": 3
   },
   "file_extension": ".py",
   "mimetype": "text/x-python",
   "name": "python",
   "nbconvert_exporter": "python",
   "pygments_lexer": "ipython3",
   "version": "3.13.3"
  }
 },
 "nbformat": 4,
 "nbformat_minor": 5
}
