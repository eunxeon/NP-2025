{
 "cells": [
  {
   "cell_type": "markdown",
   "id": "b6518cf0",
   "metadata": {},
   "source": [
    "# 4장 리스트 연습문제 2"
   ]
  },
  {
   "cell_type": "markdown",
   "id": "c8f2905f",
   "metadata": {},
   "source": [
    "#"
   ]
  },
  {
   "cell_type": "markdown",
   "id": "e67c1f1b",
   "metadata": {},
   "source": [
    "### for 루프를 이용하여 다음과 같은 리스트를 생성하라.\n",
    "\n",
    "- 0~49까지의 수로 구성되는 리스트\n",
    "\n",
    "- 1~50까지 수의 제곱으로 구성되는 리스트"
   ]
  },
  {
   "cell_type": "code",
   "execution_count": null,
   "id": "e8a49cba",
   "metadata": {},
   "outputs": [
    {
     "name": "stdout",
     "output_type": "stream",
     "text": [
      "친구 리스트 결과: ['지수', '철수', '태호', '영희', '민수', '수빈']\n"
     ]
    }
   ],
   "source": [
    "# 0 ~ 49까지의 수로 구성되는 리스트\n",
    "list1 = []\n",
    "for i in range(50):   # 0부터 49까지\n",
    "    list1.append(i)\n",
    "print(\"0~49 리스트:\", list1)\n",
    "\n",
    "# 1 ~ 50까지 수의 제곱으로 구성되는 리스트\n",
    "list2 = []\n",
    "for i in range(1, 51):   # 1부터 50까지\n",
    "    list2.append(i**2)\n",
    "print(\"1~50 제곱 리스트:\", list2)"
   ]
  },
  {
   "cell_type": "markdown",
   "id": "ce0bfd7e",
   "metadata": {},
   "source": [
    "### 크기가 같은 두 개의 리스트 L, M을 생성하고 두 리스트의 각 요소 합으로 구성되는 새로운 리스트를 생성하라. 예를 들어 L=[1,2,3]이고 M=[4,5,6]이면 [5,7,9]인 리스트 생성  "
   ]
  },
  {
   "cell_type": "code",
   "execution_count": 3,
   "id": "a85325ec",
   "metadata": {},
   "outputs": [
    {
     "name": "stdout",
     "output_type": "stream",
     "text": [
      "리스트 합 결과: [5, 7, 9]\n"
     ]
    }
   ],
   "source": [
    "L = [1, 2, 3]\n",
    "M = [4, 5, 6]\n",
    "\n",
    "# 두 리스트의 각 요소 합으로 새로운 리스트 생성\n",
    "result = []\n",
    "for i in range(len(L)):\n",
    "    result.append(L[i] + M[i])\n",
    "\n",
    "print(\"리스트 합 결과:\", result)   # [5, 7, 9]\n"
   ]
  },
  {
   "cell_type": "markdown",
   "id": "fe55bc66",
   "metadata": {},
   "source": [
    "### 사용자로부터 5개의 숫자를 문자열로 입력 받아 각 숫자를 +로 연결한 문자열을 생성하라. 예를 들어 2,5,11,33,55를 입력하면 '2+5+11+33+55'를 생성하라."
   ]
  },
  {
   "cell_type": "code",
   "execution_count": 4,
   "id": "6e382a48",
   "metadata": {},
   "outputs": [
    {
     "name": "stdout",
     "output_type": "stream",
     "text": [
      "결과 문자열: 2+5+11+3\n"
     ]
    }
   ],
   "source": [
    "# 사용자로부터 5개의 숫자를 입력받아 +로 연결된 문자열 만들기\n",
    "nums = input(\"숫자 5개를 입력하세요 (예: 2,5,11,33,55): \").split(',')\n",
    "\n",
    "# 리스트를 '+'로 연결된 문자열로 합치기\n",
    "result = '+'.join(nums)\n",
    "\n",
    "print(\"결과 문자열:\", result)"
   ]
  }
 ],
 "metadata": {
  "kernelspec": {
   "display_name": ".venv (3.13.3)",
   "language": "python",
   "name": "python3"
  },
  "language_info": {
   "codemirror_mode": {
    "name": "ipython",
    "version": 3
   },
   "file_extension": ".py",
   "mimetype": "text/x-python",
   "name": "python",
   "nbconvert_exporter": "python",
   "pygments_lexer": "ipython3",
   "version": "3.13.3"
  }
 },
 "nbformat": 4,
 "nbformat_minor": 5
}
