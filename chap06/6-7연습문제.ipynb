{
 "cells": [
  {
   "cell_type": "markdown",
   "id": "3fb7934b",
   "metadata": {},
   "source": [
    "### 다음 Person 클래스를 상속 받는 Employee 클래스를 정의하라.\n",
    "\n",
    "Employee 클래스에 employeeID 속성을 추가하고 getID() 메소드를 정의하라.\n",
    "\n",
    "getID() 메소드는 employeeID를 반환하는 메소드이다.\n",
    "\n",
    "Employee 클래스를 이용하여 Employee(\"동양\", 65, 2019)로 생성된 객체의 이름, 나이, ID를 출력하라.\n",
    "\n",
    "```python\n",
    "\n",
    "class Person:\n",
    "    def __init__(self, name, age):\n",
    "        self.name = name\n",
    "        self.age = age\n",
    "\n",
    "    def getName(self):\n",
    "        print(self.name)\n",
    "\n",
    "    def getAge(self):\n",
    "        print(self.age)\n",
    "```"
   ]
  },
  {
   "cell_type": "code",
   "execution_count": null,
   "id": "ee0c16eb",
   "metadata": {},
   "outputs": [],
   "source": [
    "class Person:\n",
    "    def __init__(self, name, age):\n",
    "        self.name = name\n",
    "        self.age = age\n",
    "\n",
    "    def getName(self):\n",
    "        print(self.name)\n",
    "\n",
    "    def getAge(self):\n",
    "        print(self.age)\n",
    "\n",
    "\n",
    "class Employee(Person):\n",
    "    def __init__(self, name, age, employeeID):\n",
    "        super().__init__(name, age)   # Person 클래스 초기화\n",
    "        self.employeeID = employeeID  # 새로운 속성 추가\n",
    "\n",
    "    def getID(self):\n",
    "        print(self.employeeID)\n",
    "\n",
    "\n",
    "# 실행 예시\n",
    "e1 = Employee(\"동양\", 65, 2019)\n",
    "e1.getName()   # 동양\n",
    "e1.getAge()    # 65\n",
    "e1.getID()     # 2019"
   ]
  }
 ],
 "metadata": {
  "language_info": {
   "name": "python"
  }
 },
 "nbformat": 4,
 "nbformat_minor": 5
}
