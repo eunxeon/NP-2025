{
 "cells": [
  {
   "cell_type": "markdown",
   "id": "2af1f6a0",
   "metadata": {},
   "source": [
    "\n",
    "- 파이썬 언어에서 다음에 대해 조사하고 예제코드를 실행하여 보라\n",
    "\n",
    "- 파이썬으로 싱글톤 패턴을 구현하는 방법들\n",
    "\n",
    "- 파이썬에서 멀티쓰레드 구현하는 기법\n",
    "\n",
    "- 멀티쓰레드에서 공유 변수에 대한 Critical Section을 보호하는 기법"
   ]
  },
  {
   "cell_type": "markdown",
   "id": "ac8c5bb1",
   "metadata": {},
   "source": [
    "1. new() 메서드를 오버라이드하거나, call() 메서드를 사용하거나, 데코레이터를 활용하는 방식"
   ]
  },
  {
   "cell_type": "code",
   "execution_count": null,
   "id": "121a2aec",
   "metadata": {},
   "outputs": [],
   "source": [
    "#new()\n",
    "\n",
    "class SingletonNew:\n",
    "    _instance = None\n",
    "\n",
    "    def __new__(cls, *args, **kwargs):\n",
    "        if cls._instance is None:              # 최초 1번만 생성\n",
    "            cls._instance = super().__new__(cls)\n",
    "        return cls._instance\n",
    "\n",
    "# 테스트\n",
    "a = SingletonNew()\n",
    "b = SingletonNew()\n",
    "print(a is b)  # True → 두 객체는 같은 인스턴스\n",
    "\n",
    "\n",
    "#__call__()\n",
    "\n",
    "class SingletonMeta(type):\n",
    "    _instances = {}\n",
    "\n",
    "    def __call__(cls, *args, **kwargs):   # 객체 생성 시 호출\n",
    "        if cls not in cls._instances:\n",
    "            cls._instances[cls] = super().__call__(*args, **kwargs)\n",
    "        return cls._instances[cls]\n",
    "\n",
    "class SingletonCall(metaclass=SingletonMeta):\n",
    "    pass\n",
    "\n",
    "# 테스트\n",
    "x = SingletonCall()\n",
    "y = SingletonCall()\n",
    "print(x is y)  # True\n",
    "\n",
    "# 데코레이터 활용\n",
    "\n",
    "def singleton(cls):\n",
    "    instances = {}\n",
    "\n",
    "    def get_instance(*args, **kwargs):\n",
    "        if cls not in instances:\n",
    "            instances[cls] = cls(*args, **kwargs)\n",
    "        return instances[cls]\n",
    "\n",
    "    return get_instance\n",
    "\n",
    "@singleton\n",
    "class SingletonDeco:\n",
    "    pass\n",
    "\n",
    "# 테스트\n",
    "m = SingletonDeco()\n",
    "n = SingletonDeco()\n",
    "print(m is n)  # True\n"
   ]
  },
  {
   "cell_type": "markdown",
   "id": "bfdb6ae0",
   "metadata": {},
   "source": [
    "2. threading 모듈 사용"
   ]
  },
  {
   "cell_type": "code",
   "execution_count": null,
   "id": "6f22844e",
   "metadata": {},
   "outputs": [],
   "source": [
    "import threading\n",
    "import time\n",
    "\n",
    "def worker(name):\n",
    "    for i in range(3):\n",
    "        print(f\"{name} 작업 중... {i}\")\n",
    "        time.sleep(1)\n",
    "\n",
    "# 쓰레드 2개 생성\n",
    "t1 = threading.Thread(target=worker, args=(\"스레드-1\",))\n",
    "t2 = threading.Thread(target=worker, args=(\"스레드-2\",))\n",
    "\n",
    "# 시작\n",
    "t1.start()\n",
    "t2.start()\n",
    "\n",
    "# 메인 쓰레드가 기다리도록 join()\n",
    "t1.join()\n",
    "t2.join()\n",
    "\n",
    "print(\"모든 작업 종료\")"
   ]
  },
  {
   "cell_type": "markdown",
   "id": "0e9fe8d1",
   "metadata": {},
   "source": [
    "3. 뮤텍스(Lock,Rlock)를 사용"
   ]
  },
  {
   "cell_type": "code",
   "execution_count": null,
   "id": "e4db278d",
   "metadata": {},
   "outputs": [],
   "source": [
    "import threading\n",
    "\n",
    "# 1) 뮤텍스 없이\n",
    "counter = 0\n",
    "\n",
    "def worker_no_lock():\n",
    "    global counter\n",
    "    for _ in range(100000):\n",
    "        counter += 1  # 임계구역 (보호 없음)\n",
    "\n",
    "threads = [threading.Thread(target=worker_no_lock) for _ in range(2)]\n",
    "for t in threads: t.start()\n",
    "for t in threads: t.join()\n",
    "\n",
    "print(\"최종 counter (뮤텍스 없음):\", counter)  # 기대값 200000, 하지만 더 작을 수 있음\n",
    "\n",
    "# 2) 뮤텍스 사용\n",
    "counter = 0\n",
    "lock = threading.Lock()\n",
    "\n",
    "def worker_with_lock():\n",
    "    global counter\n",
    "    for _ in range(100000):\n",
    "        with lock:       # 임계구역 보호\n",
    "            counter += 1\n",
    "\n",
    "threads = [threading.Thread(target=worker_with_lock) for _ in range(2)]\n",
    "for t in threads: t.start()\n",
    "for t in threads: t.join()\n",
    "\n",
    "print(\"최종 counter (뮤텍스 사용):\", counter)  # 항상 200000\n"
   ]
  }
 ],
 "metadata": {
  "language_info": {
   "name": "python"
  }
 },
 "nbformat": 4,
 "nbformat_minor": 5
}
