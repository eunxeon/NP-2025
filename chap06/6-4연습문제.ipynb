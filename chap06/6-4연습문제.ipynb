{
 "cells": [
  {
   "cell_type": "markdown",
   "id": "dadb6e69",
   "metadata": {},
   "source": [
    "### Password_manager 클래스를 작성하라. 이 클래스는 사용자의 모든 과거 패스워드를 저장하는 old_passwords 리스트 변수를 갖는다. 리스트의 마지막 요소는 현재 패스워드이다. 현재 패스워드를 알려주는 get_password와 새로운 패스워드를 설정하는 set_password 메소드를 정의하라. set_password는 과거에 사용하지 않은 새로운 패스워드를 설정할 때만 유효하다. 문자열을 입력받아 현재 패스워드와 같은지 True 또는 False를 반환하는 is_correct 메소드를 정의하라."
   ]
  },
  {
   "cell_type": "code",
   "execution_count": null,
   "id": "ca06e794",
   "metadata": {},
   "outputs": [],
   "source": [
    "class Password_manager:\n",
    "    def __init__(self, initial_password):        \n",
    "        self.old_passwords = [initial_password]\n",
    "\n",
    "    def get_password(self):       \n",
    "        return self.old_passwords[-1]\n",
    "\n",
    "    def set_password(self, new_password):      \n",
    "        if new_password not in self.old_passwords:\n",
    "            self.old_passwords.append(new_password)\n",
    "            return True\n",
    "        return False\n",
    "\n",
    "    def is_correct(self, password):       \n",
    "        return password == self.get_password()\n",
    "\n",
    "\n",
    "# 사용 예시\n",
    "pm = Password_manager(\"1234\")\n",
    "\n",
    "print(pm.get_password())        # 현재 패스워드: 1234\n",
    "print(pm.set_password(\"5678\"))  # 새로운 비밀번호 설정 → True\n",
    "print(pm.set_password(\"1234\"))  # 과거 비밀번호 재사용 불가 → False\n",
    "print(pm.get_password())        # 현재 패스워드: 5678\n",
    "print(pm.is_correct(\"5678\"))    # True\n",
    "print(pm.is_correct(\"0000\"))    # False\n",
    "print(pm.old_passwords)         # ['1234', '5678']\n"
   ]
  }
 ],
 "metadata": {
  "language_info": {
   "name": "python"
  }
 },
 "nbformat": 4,
 "nbformat_minor": 5
}
