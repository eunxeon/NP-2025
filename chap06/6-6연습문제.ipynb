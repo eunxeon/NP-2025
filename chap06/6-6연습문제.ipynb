{
 "cells": [
  {
   "cell_type": "markdown",
   "id": "9d93e2d5",
   "metadata": {},
   "source": [
    "### 다음 프로그램을 실행했을 때 아래 내용이 출력되도록 클래스를 정의하라. 학번(id) 앞 4자리가 2018보다 작으면 grade() 메소드에 의해 “3학년입니다”가 출력되고 아니면 “3학년이 아닙니다”가 출력된다.\n",
    "\n",
    "man = Student(name = \"홍길동\", id = 20150001, dept = \"로봇공학과\")\n",
    "print(\"이름: {}, 학번: {}, 학과: {}\".format(man.name, man.id, man.dept))\n",
    "man.grade()\n",
    "\n",
    "[출력 내용]\n",
    "이름: 홍길동, 학번: 20150001, 학과: 로봇공학과\n",
    "3학년입니다"
   ]
  },
  {
   "cell_type": "code",
   "execution_count": null,
   "id": "dadee6ca",
   "metadata": {},
   "outputs": [],
   "source": [
    "class Student:\n",
    "    def __init__(self, name, id, dept):\n",
    "        self.name = name\n",
    "        self.id = id\n",
    "        self.dept = dept\n",
    "\n",
    "    def grade(self):\n",
    "        # 학번 앞 4자리 추출\n",
    "        year = int(str(self.id)[:4])\n",
    "        if year < 2018:\n",
    "            print(\"3학년입니다\")\n",
    "        else:\n",
    "            print(\"3학년이 아닙니다\")\n",
    "\n",
    "\n",
    "# === 사용 예시 ===\n",
    "man = Student(name=\"홍길동\", id=20150001, dept=\"로봇공학과\")\n",
    "print(\"이름: {}, 학번: {}, 학과: {}\".format(man.name, man.id, man.dept))\n",
    "man.grade()\n"
   ]
  }
 ],
 "metadata": {
  "language_info": {
   "name": "python"
  }
 },
 "nbformat": 4,
 "nbformat_minor": 5
}
