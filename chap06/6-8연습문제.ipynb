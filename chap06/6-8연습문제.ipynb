{
 "cells": [
  {
   "cell_type": "markdown",
   "id": "92dc0fe8",
   "metadata": {},
   "source": [
    "### 앞의 Person 클래스에서 새로운 Person 객체가 생성될 때 ID를 1001번지부터 순차적으로 자동으로 부여할 수 있도록 Employee 클래스를 포함해서 변경하시오. 새로운 Employee 객체를 만들어 getId()를 호출할 때 ID가 중복되면 안 된다.\n",
    "\n"
   ]
  },
  {
   "cell_type": "code",
   "execution_count": null,
   "id": "95db9f01",
   "metadata": {},
   "outputs": [],
   "source": [
    "class Person:\n",
    "    def __init__(self, name, age):\n",
    "        self.name = name\n",
    "        self.age = age\n",
    "\n",
    "\n",
    "class Employee(Person):\n",
    "    __count = 1000   # 클래스 변수: ID 시작값 1001부터\n",
    "\n",
    "    def __init__(self, name, age):\n",
    "        super().__init__(name, age)\n",
    "        Employee.__count += 1\n",
    "        self.__id = Employee.__count\n",
    "\n",
    "    def getId(self):\n",
    "        print(self.__id)\n",
    "\n",
    "    def getAge(self):\n",
    "        print(self.age)\n",
    "\n",
    "\n",
    "# === 테스트 ===\n",
    "if __name__ == \"__main__\":\n",
    "    e1 = Employee(\"홍길동\", 25)\n",
    "    e2 = Employee(\"김철수\", 30)\n",
    "    e3 = Employee(\"이영희\", 28)\n",
    "\n",
    "    e1.getId()  # 1001\n",
    "    e2.getId()  # 1002\n",
    "    e3.getId()  # 1003\n",
    "\n",
    "    e1.getAge() # 25\n",
    "    e2.getAge() # 30\n"
   ]
  }
 ],
 "metadata": {
  "language_info": {
   "name": "python"
  }
 },
 "nbformat": 4,
 "nbformat_minor": 5
}
