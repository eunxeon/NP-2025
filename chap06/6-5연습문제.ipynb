{
 "cells": [
  {
   "cell_type": "markdown",
   "id": "2994532e",
   "metadata": {},
   "source": [
    "### Articles 클래스를 작성하라. 이 클래스는 각각 제품의 이름, 재고 수량, 단가를 나타내는 name, stock, price 인스턴스 변수를 가지고 있다. \n",
    "### offer_price() 메소드는 구매 수량을 인수로 전달받아 총 가격을 반환한다.\n",
    "### 구매 수량이 1~10개 이하이면 정상 가격을 반환하고, 11~50개이면 5% 할인된 가격을 반환한다. 또 51개 이상이면 10% 할인해 준다. \n",
    "### purchase() 메소드는 구매 수량을 인수로 전달받아 재고 수량을 구매 수량만큼 감소한다.\n",
    "### 이 클래스를 이용하여 단가 1000원인 \" mask \"를 10,000장으로 설정하고, 40장 구매 가격과 구매 후 재고를 출력하라."
   ]
  },
  {
   "cell_type": "code",
   "execution_count": null,
   "id": "1a32dcc7",
   "metadata": {},
   "outputs": [],
   "source": [
    "class Articles:\n",
    "    def __init__(self, name, stock, price):\n",
    "        self.name = name\n",
    "        self.stock = stock\n",
    "        self.price = price\n",
    "\n",
    "    def offer_price(self, count):\n",
    "        total = self.price * count\n",
    "\n",
    "        # 할인 조건\n",
    "        if count > 50:           # 51개 이상\n",
    "            total *= 0.9\n",
    "        elif count > 10:         # 11~50개\n",
    "            total *= 0.95\n",
    "\n",
    "        return int(total)\n",
    "\n",
    "    def purchase(self, count):\n",
    "        self.stock -= count   # 재고 차감\n",
    "\n",
    "\n",
    "# 사용 예시\n",
    "item = Articles(\"mask\", 10000, 1000)\n",
    "\n",
    "price = item.offer_price(40)\n",
    "item.purchase(40)\n",
    "\n",
    "print(\"40장 구매 가격:\", price)   # 38000\n",
    "print(\"구매 후 재고:\", item.stock) # 9960\n"
   ]
  },
  {
   "cell_type": "markdown",
   "id": "7a03d64d",
   "metadata": {},
   "source": []
  }
 ],
 "metadata": {
  "language_info": {
   "name": "python"
  }
 },
 "nbformat": 4,
 "nbformat_minor": 5
}
