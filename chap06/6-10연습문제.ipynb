{
 "cells": [
  {
   "cell_type": "markdown",
   "id": "006d943a",
   "metadata": {},
   "source": [
    "### 동물(Animal)을 울음으로 하는 추상 메소드로 하는 추상클래스로 정의하고,  \n",
    "- 개(Dog)와 고양이(Cat)를 구체적인 클래스로 정의한 후,  \n",
    "- 각 동물의 울음소리를 출력하는 프로그램을 작성하시오.  \n",
    "- 각 동물 객체는 자신의 이름을 속성으로 가지며,\n",
    "- 생성자에서 이름을 초기화한다.  \n",
    "- 추가적으로 Animal 클래스는 현재 생성된 동물 객체의 수를 클래스 변수로 가지고,  \n",
    "- 정적 메소드로 현재 동물 객체의 수를 반환하는 메소드를 구현\n",
    "- 객체가 생성(__init__)될 때 객체의 수를 증가하고 삭제(__del__)될 때 객체의 수를 감소\n",
    "\n",
    "### 테스트\n",
    "- 개나 고양이 객체들을 리스트로 생성하고 개나 Animal 변수로 받아 동적 바인딩이 되는지 확인하시오.  \n",
    "- 모든 객체들이 울게 하는 함수를 작성하여 테스트하시오.  "
   ]
  },
  {
   "cell_type": "code",
   "execution_count": null,
   "id": "5ba92249",
   "metadata": {},
   "outputs": [],
   "source": [
    "from abc import ABC, abstractmethod\n",
    "\n",
    "class Animal(ABC):\n",
    "    count = 0   # 클래스 변수: 생성된 객체 수\n",
    "\n",
    "    def __init__(self, name):\n",
    "        self.name = name\n",
    "        Animal.count += 1   # 객체 생성 시 개수 증가\n",
    "\n",
    "    @abstractmethod\n",
    "    def sound(self):\n",
    "        pass\n",
    "\n",
    "    @staticmethod\n",
    "    def get_animal_count():\n",
    "        return Animal.count\n",
    "\n",
    "    def __del__(self):\n",
    "        Animal.count -= 1   # 객체 삭제 시 개수 감소\n",
    "\n",
    "\n",
    "class Dog(Animal):\n",
    "    def sound(self):\n",
    "        print(f\"{self.name}: 멍멍\")\n",
    "\n",
    "\n",
    "class Cat(Animal):\n",
    "    def sound(self):\n",
    "        print(f\"{self.name}: 야옹\")\n",
    "\n",
    "\n",
    "# 모든 동물들을 울게 하는 함수\n",
    "def animal_sounds(animals):\n",
    "    for a in animals:\n",
    "        a.sound()\n",
    "\n",
    "\n",
    "# === 테스트 ===\n",
    "if __name__ == \"__main__\":\n",
    "    animals = [Dog(\"바둑이\"), Cat(\"나비\"), Dog(\"멍멍이\"), Cat(\"야옹이\")]\n",
    "\n",
    "    print(f\"현재 동물 객체 수: {Animal.get_animal_count()}\")  # 4\n",
    "\n",
    "    animal_sounds(animals)\n",
    "\n",
    "    del animals[0]   # 바둑이 삭제\n",
    "    print(f\"현재 동물 객체 수: {Animal.get_animal_count()}\")  # 3\n"
   ]
  }
 ],
 "metadata": {
  "language_info": {
   "name": "python"
  }
 },
 "nbformat": 4,
 "nbformat_minor": 5
}
