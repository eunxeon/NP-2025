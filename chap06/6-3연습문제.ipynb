{
 "cells": [
  {
   "cell_type": "markdown",
   "id": "d20c4366",
   "metadata": {},
   "source": [
    "### Money 클래스를 작성하라. 이 클래스는 저축한 총액을 저장하는 인스턴스 변수가 있다. \n",
    "### deposit(money) 메서드는 인수로 주어진 금액만큼 저축하고 총액을 출력한다,\n",
    "### extract(money) 메소드는 money를 인출하고 총액을 출력한다. get_total() 메소드는 총액을 알려준다.\n",
    "### my_money = Moneybox() 객체를 생성하고 1000원을 저축하고, 200원을 인출한 다음, 총액을 출력하라."
   ]
  },
  {
   "cell_type": "code",
   "execution_count": null,
   "id": "af25fba3",
   "metadata": {},
   "outputs": [],
   "source": [
    "class Moneybox:\n",
    "    def __init__(self):\n",
    "        self.total = 0   # 총액 초기화\n",
    "    \n",
    "    def deposit(self, money):\n",
    "        self.total += money\n",
    "        print(\"저축 후 총액:\", self.total)\n",
    "    \n",
    "    def extract(self, money):\n",
    "        if money <= self.total:\n",
    "            self.total -= money\n",
    "            print(\"인출 후 총액:\", self.total)\n",
    "        else:\n",
    "            print(\"잔액 부족! 현재 총액:\", self.total)\n",
    "    \n",
    "    def get_total(self):\n",
    "        return self.total\n",
    "\n",
    "\n",
    "# 실행 예시\n",
    "my_money = Moneybox()\n",
    "my_money.deposit(1000)     # 저축 후 총액: 1000\n",
    "my_money.extract(200)      # 인출 후 총액: 800\n",
    "print(\"최종 총액:\", my_money.get_total())  # 최종 총액: 800"
   ]
  }
 ],
 "metadata": {
  "language_info": {
   "name": "python"
  }
 },
 "nbformat": 4,
 "nbformat_minor": 5
}
