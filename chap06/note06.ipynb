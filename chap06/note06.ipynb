{
 "cells": [
  {
   "cell_type": "markdown",
   "id": "7243331d",
   "metadata": {},
   "source": [
    "# 6장 노트정리\n",
    "\n",
    "이 파일은 6장 학습하면서 실행한 내용을 정리한 것이다.\n",
    "\n",
    "날짜: 2025.9.23\n",
    "\n",
    "학번: 202311428\n",
    "\n",
    "저자: 이은선"
   ]
  },
  {
   "cell_type": "markdown",
   "id": "20bcebd5",
   "metadata": {},
   "source": [
    "## 객체지향 프로그래밍"
   ]
  },
  {
   "cell_type": "markdown",
   "id": "9d965a6b",
   "metadata": {},
   "source": [
    "- 객체지향 프로그램은 객체(object)의 속성(변수)과 동작(함수)을 나타내는 클래스를 정의하고, 이로부터 객체를 생성(인스턴스화; Instantiation)하여 작성한 프로그램\n",
    "\n",
    "- 클래스와 객체는 풀빵틀과 풀빵의 관계\n",
    "\n",
    "- 클래스의 동작을 나타내는 함수를 메소드(method)라 한다\n",
    "\n",
    "- 클래스는 다른 클래스로부터 상속받을 수 있다.상속 클래스는 부모 클래스가 갖지 않는 속성과 메소드를 가질 수 있다.\n",
    "\n",
    "- 객체는 클래스의 속성과 메소드를 갖는다\n",
    "\n",
    "- 객체는 일반 변수처럼 사용된다. 함수의 인자로 사용되고, 함수에서 객체를 반환할 수도 있다. 튜플이나 딕셔너리의 요소로 사용될 수 있다."
   ]
  },
  {
   "cell_type": "markdown",
   "id": "e17a3bb2",
   "metadata": {},
   "source": [
    "### 클래스 정의"
   ]
  },
  {
   "cell_type": "markdown",
   "id": "1719d6ee",
   "metadata": {},
   "source": [
    "```\n",
    "class 클래스이름(부모 클래스):\n",
    "    클래스 몸체\n",
    "\n",
    "- 클래스는 class 키워드로 정의된다. 부모 클래스는 없으면 생략\n",
    "- 클래스 몸체는 변수와 메소드로 구성\n",
    "```"
   ]
  },
  {
   "cell_type": "markdown",
   "id": "53c093f7",
   "metadata": {},
   "source": [
    "### 클래스 객체"
   ]
  },
  {
   "cell_type": "markdown",
   "id": "f85aa55b",
   "metadata": {},
   "source": [
    "- 클래스를 인스턴스화(instantiation)하여 만들어진 것을 객체(pbject)라 한다.\n",
    "\n",
    "- 객체는 클래스의 변수와 메소드에 접근할 수 있다."
   ]
  },
  {
   "cell_type": "markdown",
   "id": "e9ac553c",
   "metadata": {},
   "source": [
    "```py\n",
    ">>> class Test:\n",
    "...     name = \"홍길동\"\n",
    "... \n",
    ">>> t = Test()\n",
    ">>> print(t.name)\n",
    "홍길동\n",
    "```"
   ]
  },
  {
   "cell_type": "code",
   "execution_count": 4,
   "id": "7c757a41",
   "metadata": {},
   "outputs": [],
   "source": [
    "class Car :\n",
    "    def __init__(self, color, speed):  \n",
    "        self.color = color  \n",
    "        self.speed = speed\n",
    "    def speedUp(self, v):  \n",
    "        self.speed = self.speed + v\n",
    "        return self.speed\n",
    "    def speedDown(self, v):\n",
    "        self.speed = self.speed - v\n",
    "        return self.speed"
   ]
  },
  {
   "cell_type": "markdown",
   "id": "1dd1cb27",
   "metadata": {},
   "source": [
    "- self.variable로 정의된 변수(인스턴스 변수)는 클래스 전체에서 유효하다. 클래스 속성은 인스턴스 변수로 정의한다.\n",
    "\n",
    "- self. 가 없는 변수는 메소드 내에서만 유효한 지역변수이다."
   ]
  },
  {
   "cell_type": "markdown",
   "id": "6fa9d312",
   "metadata": {},
   "source": [
    "### 초기화 함수( __ init __())\n",
    "\n",
    "- 객체를 생성할 때 자동실행 메소드\n",
    "\n",
    "- 인스턴스 변수(self.var)를 초기화할 때 사용(초기화 필요가 없으면 생략 가능)\n",
    "\n",
    "- self를 첫 번째 매개변수로 가지며, self는 클래스 객체를 나타낸다.\n",
    "\n",
    "- 인스턴스 변수는 클래스 내부의 모든 메소드에서 사용할 수 있다.\n",
    "\n",
    "```py\n",
    "class Car:\n",
    "    def__init__(self, color, speed):\n",
    "        self.color = color\n",
    "        self.speed = speed\n",
    "```"
   ]
  },
  {
   "cell_type": "markdown",
   "id": "de7903a6",
   "metadata": {},
   "source": [
    "### Car 클래스 객체를 이용한 프로그램\n",
    "\n",
    "- Car클래스 객체 mycar 생성\n",
    "\n",
    "- Car클래스의 color와 speed속성 접근\n",
    "\n",
    "- Car클래스의 speedup()과 speeddown()메소드 호출"
   ]
  },
  {
   "cell_type": "code",
   "execution_count": null,
   "id": "bc34c12b",
   "metadata": {},
   "outputs": [],
   "source": [
    "mycar = Car('Black', 60) #Car class 객체생성\n",
    "print('색상: ', mycar.color, '속도: ', mycar.speed) #속성접근\n",
    "mycar.color = \"Red\" #속성변경도가능\n",
    "print('색상: ', mycar.color)\n",
    "mycar.speedup(10) #speedup() method 호출\n",
    "print('속도: ', mycar.speed)\n",
    "mycar.speeddown(20) #speeddown() method 호출\n",
    "print('속도: ', mycar.speed)"
   ]
  },
  {
   "cell_type": "markdown",
   "id": "6f745600",
   "metadata": {},
   "source": [
    "### 클래스속성: 클래스 변수와 인스턴스 변수"
   ]
  },
  {
   "cell_type": "code",
   "execution_count": null,
   "id": "59be6ae9",
   "metadata": {},
   "outputs": [],
   "source": [
    "class Calc:\n",
    "    count = 0 # 클래스변수. 클래스 내에서 유효\n",
    "    def add(self, a=0, b=0):\n",
    "        self.a = a # 인스턴스변수\n",
    "        self.b = b\n",
    "        self.count += 1 # 클래스 변수를 self와 함께 사용하면 인스턴스 변수처럼 사용\n",
    "        return self.a + self.b\n",
    "    def minus(self, a,b):\n",
    "        if a == 0 or b== 0:\n",
    "            return a - b, self.count\n",
    "        else:\n",
    "            return a-b\n",
    "obj = Calc()\n",
    "print(obj.minus(3,0)) #count 속성 출력\n",
    "print(obj.minus(3,1))\n",
    "print(obj.add(1, 2)) #count 속성 증가\n",
    "print(obj.count, Calc.count) # 인스턴스 변수(obj.count)는 변하지만 클래스변수(Calc.count)는 변하지 않음  "
   ]
  },
  {
   "cell_type": "markdown",
   "id": "64e41f02",
   "metadata": {},
   "source": [
    "### 클래스상속\n",
    "\n",
    "- 상속은 기존에 만들어지 클래스로부터 속성과 메소드를 이어받고 자신이 필요한 기능을 추가하는 기법이다.\n",
    "- 상위 클래스 = 부모 클래스 또는 super class\n",
    "- 하위 클래스 = 자식 클래스 또는 sub class\n",
    "- 상속의 구현\n",
    "```py\n",
    "class subclass(superclass):\n",
    "```\n",
    "- 파이썬 프로그램의 모듈은 대부분 클래스로 구현되어 있고 자신의 프로그램에서는 모듈에 포함된 부모 클래스를 상속받아 구현된다.\n",
    "```py\n",
    "class Handler(serversocket.BaseRequestHandler):\n",
    "```\n",
    "###### - serversocket 모듈의 BaseRequestHandler 클래스를 상속받아 Handler 클래스 구현"
   ]
  },
  {
   "cell_type": "markdown",
   "id": "2a290c03",
   "metadata": {},
   "source": [
    "### 클래스 상속 예제\n",
    "- People 클래스에서 상속 받아 Teacher 클래스 정의\n",
    "- 부모 클래스 호출: super().method(args)/People.method(self, args)\n",
    "```py\n",
    ">>> class People:\n",
    "...     def __init__(self, age=0, name=None):\n",
    "...             self.__age = age\n",
    "...             self.__name = name\n",
    "...     def introMe(self):\n",
    "...             print(\"Name: \", self.__name, \"age: \", str(self.__age))\n",
    "... \n",
    ">>> class Teacher(People):\n",
    "...     def __init__(self, age=0, name=None, school=None):\n",
    "...             super().__init__(age,name)\n",
    "...             self.school = school\n",
    "...     def showSchool(self):\n",
    "...             print(\"My School is \", self.school)\n",
    "```\n",
    "\n",
    "- 상속 메소드 호출\n",
    "```py\n",
    ">>> p1 = People(29, \"Lee\")\n",
    ">>> p1.introMe()\n",
    "Name:  Lee age:  29\n",
    ">>> t1 = Teacher(49, \"Kim\", \"HighSchool\")\n",
    ">>> t1.introMe()\n",
    "Name:  Kim age:  49\n",
    ">>> t1.showSchool()\n",
    "My School is  HighSchool\n",
    "```"
   ]
  },
  {
   "cell_type": "markdown",
   "id": "75a7d5f8",
   "metadata": {},
   "source": [
    "### 메소드 오버라이딩\n",
    "- 자식클래스에서 부모클래스의 메소드를 수정해 다시 정의하는 것\n",
    "- Student 클래스에서 People 클래스의 introMe() 메소드를 재정의하여 사용\n",
    "```py\n",
    ">>> class People:\n",
    "...     def __init__(self, age=0, name=None):\n",
    "...             self.__age = age\n",
    "...             self.__name = name\n",
    "...     def introMe(self):\n",
    "...             print(\"Name: \", self.__name, \"age: \", str(self.__age))\n",
    "... \n",
    ">>> class Student(People):\n",
    "...     def __init__(self, age=0, name=None, grade=None):\n",
    "...             super().__init__(age, name)\n",
    "...             self.__grade = grade\n",
    "...     def introMe(self):\n",
    "...             super().introMe()\n",
    "...             print(\"Grade: \", self.__grade)\n",
    "```"
   ]
  },
  {
   "cell_type": "markdown",
   "id": "c17d8a9a",
   "metadata": {},
   "source": [
    "### 오버라이딩 메소드 호출\n",
    "```py\n",
    ">>> p1 = People(29, \"Lee\")\n",
    ">>> p1.introMe()\n",
    "Name:  Lee age:  29\n",
    ">>> s1 = Student(17, \"Park\", 2)\n",
    ">>> s1.introMe()\n",
    "Name:  Lee age:  29\n",
    "Name:  Park age:  17 Grade: 2\n",
    "```"
   ]
  },
  {
   "cell_type": "markdown",
   "id": "34c6e1f7",
   "metadata": {},
   "source": [
    "## 다형성"
   ]
  },
  {
   "cell_type": "markdown",
   "id": "9ee83506",
   "metadata": {},
   "source": [
    "### 전달된 인자에 따라 함수 또는 연산의 기능이 달라지는 기능\n",
    "- 2 + 3 -> 5\n",
    "- '2' + '3' -> '23'\n",
    "- 'Hello' + 'World' -> 'Hello World'\n",
    "```py\n",
    "class Korean(object):\n",
    "    def greeting(self):\n",
    "        print(\"안녕하세요\")\n",
    "class American(object):\n",
    "    def greeting(self):\n",
    "        print(\"Hello\")\n",
    "def sayhello(people):\n",
    "    people.greeting()\n",
    "\n",
    "Kin = Korean()\n",
    "John = American()\n",
    "sayhello(Kim)\n",
    "sayhello(John)\n",
    "```"
   ]
  },
  {
   "cell_type": "markdown",
   "id": "68e3bedb",
   "metadata": {},
   "source": [
    "## 가시성\n",
    "### 파이썬은 C++/자바와 달리 접근 제어자(public, protected, private)가 엄격하게 적용되지 않습니다. 하지만 관례적으로 다음과 같이 가시성을 표현\n",
    "- public: 이름 앞에 밑줄 없음(예: value)\n",
    "    -> 어디서나 접근 가능\n",
    "\n",
    "- protected: 이름 앞에 밑줄 1개(예: _value)\n",
    "    -> 하위 클래스에서 접근 권장, 외부에서 직접 접근은 권장하지 않음\n",
    "\n",
    "- private: 이름 앞에 밑줄 2개(예: __value)\n",
    "    -> 클래스 내부에서만 접근, 이름이 맹글링(name mangling)되어 외부/하위 클래스에서 직접 접근 어렵게 만듦"
   ]
  },
  {
   "cell_type": "markdown",
   "id": "3480b78c",
   "metadata": {},
   "source": [
    "```py\n",
    "class Base:\n",
    "    def __init__(self):\n",
    "        self.public_value = 1       # public\n",
    "        self. protected_value = 2   # protected\n",
    "        self. private_value = 3     # private\n",
    "\n",
    "\n",
    "class Child(Base):\n",
    "    def show(self):\n",
    "        print(self.public_value)        # 가능\n",
    "        print(self. protected_value)    # 가능\n",
    "        # print(self. private_value)    # 불가 (AttributeError)\n",
    "\n",
    "\n",
    "class Other:\n",
    "    def show(self, obj: Base):\n",
    "        print(obj.public_value)         # 가능\n",
    "        print(obj. protected_value)     # 가능 (하지만 권장되지 않음)\n",
    "        # print(obj. private_value)     # 불가 (AttributeError)\n",
    "```"
   ]
  },
  {
   "cell_type": "markdown",
   "id": "69171d23",
   "metadata": {},
   "source": [
    "## 추상 함수"
   ]
  },
  {
   "cell_type": "markdown",
   "id": "8a80c681",
   "metadata": {},
   "source": [
    "### 파이썬에서 추상 메서드\n",
    "- abc 모듈의 ABC(Abstract Base Class)와 @avstractmethod 데코레이터 (Java의 annotation)를 사용해 정의\n",
    "- 추상 메서드는 반드시 하위 클래스에서 구현해야 하며, 직접 인스턴스화할 수 없음"
   ]
  },
  {
   "cell_type": "markdown",
   "id": "4e064bc6",
   "metadata": {},
   "source": [
    "```py\n",
    "from abc import ABC, abstractmethod\n",
    "\n",
    "class Animal(ABC):\n",
    "    @abstractmethod\n",
    "    def sound(self):\n",
    "        pass\n",
    "\n",
    "class Dog(Animal):\n",
    "    def sound(self):\n",
    "        return \"멍멍\"\n",
    "\n",
    "# a = Animal() # 에러: 추상 클래스는 인스턴스화 불가\n",
    "d = Dog()\n",
    "print(d.sound()) # 9\"\n",
    "```"
   ]
  },
  {
   "cell_type": "markdown",
   "id": "bd064f93",
   "metadata": {},
   "source": [
    "## 정적 멤버\n",
    "### 파이썬에서 정적 메서드\n",
    "- 파이썬에서 static member(정적 멤버, 클래스 변수)는 클래스 전체에서 공유되는 변수\n",
    "- 클래스 변수, 클래스 메소드라고 함\n",
    "- 메서드의 경우 @staticmethod 데코레이터를 사용해 정적 메서드를 정의\n",
    "- 정적 변수는 클래스 안에 self 가 아닌 일반 변수로 선언하고 클래스. 변수 형태로 접근"
   ]
  },
  {
   "cell_type": "markdown",
   "id": "413b1279",
   "metadata": {},
   "source": [
    "```py\n",
    "class Counter:\n",
    "    count = 0 # 클래스 변수(정적 멤버)\n",
    "\n",
    "    def __init__(self):\n",
    "        self.__object_counter = 1   # public\n",
    "\n",
    "    @staticmethod\n",
    "    def increment_class():\n",
    "        Counter.count += 1\n",
    "\n",
    "    def increment_object(self):\n",
    "        self. object_counter += 1 # private\n",
    "\n",
    "if __main__ == \"__main__\":\n",
    "    Counter.increment_class()\n",
    "    print(Counter.count)        # 1\n",
    "\n",
    "\n",
    "    c = Counter()               # 인스턴스 생성\n",
    "    print(c.object_counter)     # 1\n",
    "    c.increment_object()\n",
    "    print(c.__object_counter)      # private 접근 불가\n",
    "```"
   ]
  },
  {
   "cell_type": "markdown",
   "id": "ba7124c5",
   "metadata": {},
   "source": [
    "### 테스트 코드\n",
    "\n",
    "```py\n",
    "if __name__ == \"__main__\":\n",
    "    dog : Dog = Dog(\"바둑이\")\n",
    "    print(dog.sound())   # Output: 멍멍\n",
    "\n",
    "    cat = Cat(\"야옹이\")\n",
    "    print(cat.sound())   # Output: 야옹\n",
    "\n",
    "    any : Animal = Dog(\"바둑이2\")\n",
    "    print(any.sound())   # Output: 멍멍\n",
    "    any : Animal = Cat(\"야옹이2\")\n",
    "    print(any.sound())   # Output: 야옹\n",
    "\n",
    "    alist : list[Animal] = [Dog(\"바둑이a\"), Cat(\"나비b\"), Dog(\"멍멍이c\"), Cat(\"야옹이d\")]\n",
    "    print(alist)\n",
    "\n",
    "    animal_sound(alist[2])\n",
    "    animal_sounds(alist)\n",
    "\n",
    "    print(f\"총 동물의 수: {Animal.get_animal_count()}\")  # 8\n",
    "\n",
    "    # 올바른 객체 삭제 방법\n",
    "    del dog   # del 키워드 사용\n",
    "    del cat   # del 키워드 사용\n",
    "\n",
    "    print(f\"총 동물의 수: {Animal.get_animal_count()}\")  # 6\n",
    "\n",
    "```"
   ]
  },
  {
   "cell_type": "markdown",
   "id": "7f6ae9ce",
   "metadata": {},
   "source": [
    "## Dunder methods\n",
    "### Dunder\n",
    "- Double Underlines의 약자\n",
    "- 파이쎤에서는 Underline은 특별한 의미로 사용할 때가 많음\n",
    "- __ XXX __ 메소드는 자동으로 호추로디는 경우가 많음\n",
    "- 이러한 메소드를 재정의 하여 사용자 코드를 수행하도록 할 수 있음\n",
    "\n",
    "### Dunder Methods 예: dir(obect)\n",
    "- __ init __(self...): 클래스 생성함수, 객체 만들어질 때 자동 실행\n",
    "- __ str __(self): 클래스 객체를 문자열로 형병변환 할 때 자동 실행\n",
    "- __ eq __(self,other): 이 객체와 다른 객체를 같은지 여부\n",
    "- __ gt __(self,other): 이 객체가 다른 객체보다 큰지 여부\n",
    "\n",
    "### dir(object)\n",
    "```py\n",
    ">>> dir(object)\n",
    "['__class__', '__delattr__', '__dir__', '__doc__', '__eq__', '__format__', '__ge__', '__getattribute__', '__getstate__', '__gt__', '__hash__', '__init__', '__init_subclass__', '__le__', '__lt__', '__ne__', '__new__', '__reduce__', '__reduce_ex__', '__repr__', '__setattr__', '__sizeof__', '__str__', '__subclasshook__']\n",
    "```"
   ]
  },
  {
   "cell_type": "markdown",
   "id": "e8e3ed95",
   "metadata": {},
   "source": [
    "### Dunder methods 예제\n",
    "\n",
    "```py\n",
    "class Student:\n",
    "    def __init__(self, name, age):\n",
    "        self.name = name\n",
    "        self.age = age\n",
    "\n",
    "    def __str__(self):\n",
    "        return f\"Student(name={self.name}, age={self.age})\"\n",
    "\n",
    "    def __eq__(self, other):\n",
    "        if isinstance(other, Student):\n",
    "            return self.name == other.name and self.age == other.age\n",
    "        return False\n",
    "\n",
    "    def __del__(self):\n",
    "        print(f\"Student {self.name} is being deleted\")\n",
    "\n",
    "\n",
    "if __name__ == \"__main__\":\n",
    "    student1 = Student(\"Alice\", 20)\n",
    "    student2 = Student(\"Bob\", 22)\n",
    "    student3 = Student(\"Alice\", 20)\n",
    "\n",
    "    print(student1)   # Calls __str__\n",
    "    print(student2)   # Calls __str__\n",
    "\n",
    "    print(student1 == student2)   # Calls __eq__\n",
    "    print(student1 == student3)   # Calls __eq__\n",
    "\n",
    "    del student1    # Calls __del__\n",
    "\n",
    "```"
   ]
  },
  {
   "cell_type": "markdown",
   "id": "2048d4b7",
   "metadata": {},
   "source": [
    "## 파이썬 데코레이터"
   ]
  },
  {
   "cell_type": "markdown",
   "id": "b552879a",
   "metadata": {},
   "source": [
    "### 파이썬 데코레이터(decorator)는 함수나 클래스의 동작을 수정하거나 확장할 때 사용하는 문법\n",
    "- 함수(또는 메서드)정의 위에 @ 데코레이터 이름 형태로 사용\n",
    "- 해당 함수가 호출될 때 데코레이터 함수 내에서 해당 함수가 실행\n",
    "- 데코레이터 함수의 정의는 다음 형식을 따라 wrapper 이름의 멤ㅂ 메소드를 정의\n",
    "    -\n",
    "    ```py \n",
    "    def deco_func(func):\n",
    "        def wrapper(*args, **kwargs):\n",
    "        # ... \n",
    "        result = func(*args, **kwargs)\n",
    "        # ... \n",
    "        return result\n",
    "    return wrapper\n",
    "    ```\n",
    "    "
   ]
  },
  {
   "cell_type": "markdown",
   "id": "080dd762",
   "metadata": {},
   "source": [
    "### 파이썬 데코레이터 예제\n",
    "\n",
    "```py\n",
    "def simple_decorator(func):\n",
    "    def wrapper():\n",
    "        print(\"함수 실행 전\")\n",
    "        result = func()\n",
    "        print(\"함수 실행 후\")\n",
    "        return result\n",
    "    return wrapper\n",
    "\n",
    "\n",
    "@simple_decorator\n",
    "def say_hello():\n",
    "    print(\"Hello, World!\")\n",
    "\n",
    "\n",
    "if __name__ == \"__main__\":\n",
    "    print(\"=== 예제 1: 기본 데코레이터 ===\")\n",
    "    say_hello()\n",
    "# 함수 실행 전\n",
    "# Hello, World!\n",
    "# 함수 실행 후\n",
    "\n",
    "```"
   ]
  },
  {
   "cell_type": "markdown",
   "id": "a96cd92a",
   "metadata": {},
   "source": [
    "## 기존 함수를 확장(데코레이터를 통한)하기 위한 방법2\n",
    "\n",
    "### 이미 작성된 함수의 기능을 확장할 때 2가지 방법\n",
    "1. 함수 재할당\n",
    "    - 장식이 된 함수명을 기존 함수명으로 그대로 사용하게 하고 싶을 때: 기존 클라이언트 코드 변경 없이\n",
    "    - 원본 함수명 = decorator(원본 함수명)\n",
    "2. 다른 함수명\n",
    "    - 장식이 된 함수명을 새로운 함수명으로 명명하여 사용해도 좋을 때: 새롭게 클라이언트 함수를 짤 때\n",
    "    - 신규 함수명 = decorator(원본 함수명)"
   ]
  },
  {
   "cell_type": "markdown",
   "id": "31f8047e",
   "metadata": {},
   "source": [
    "### 파이썬 데코레이터 예제2\n",
    "\n",
    "```py\n",
    "def say_hello():\n",
    "    print(\"Hello, World!\")\n",
    "\n",
    "\n",
    "def simple_decorator(func):\n",
    "    def wrapper():\n",
    "        print(\"함수 실행 전\")\n",
    "        result = func()\n",
    "        print(\"함수 실행 후\")\n",
    "        return result\n",
    "    return wrapper\n",
    "\n",
    "\n",
    "original_hello = say_hello                            # 원본 백업\n",
    "say_hello = simple_decorator(original_hello)          # 1. 함수 재할당\n",
    "decorated_say_hello = simple_decorator(original_hello) # 2. 다른 함수명 이름\n",
    "\n",
    "\n",
    "if __name__ == \"__main__\":\n",
    "    say_hello()\n",
    "    decorated_say_hello()\n",
    "\n",
    "# 함수 실행 전\n",
    "# Hello, World!\n",
    "# 함수 실행 후\n",
    "```"
   ]
  }
 ],
 "metadata": {
  "kernelspec": {
   "display_name": ".venv (3.13.3)",
   "language": "python",
   "name": "python3"
  },
  "language_info": {
   "codemirror_mode": {
    "name": "ipython",
    "version": 3
   },
   "file_extension": ".py",
   "mimetype": "text/x-python",
   "name": "python",
   "nbconvert_exporter": "python",
   "pygments_lexer": "ipython3",
   "version": "3.13.3"
  }
 },
 "nbformat": 4,
 "nbformat_minor": 5
}
