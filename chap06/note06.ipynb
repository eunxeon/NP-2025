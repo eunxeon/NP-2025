{
 "cells": [
  {
   "cell_type": "markdown",
   "id": "7243331d",
   "metadata": {},
   "source": [
    "# 6장 노트정리\n",
    "\n",
    "이 파일은 6장 학습하면서 실행한 내용을 정리한 것이다.\n",
    "\n",
    "날짜: 2025.9.23\n",
    "\n",
    "학번: 202311428\n",
    "\n",
    "저자: 이은선"
   ]
  },
  {
   "cell_type": "markdown",
   "id": "20bcebd5",
   "metadata": {},
   "source": [
    "## 객체지향 프로그래밍"
   ]
  },
  {
   "cell_type": "markdown",
   "id": "9d965a6b",
   "metadata": {},
   "source": [
    "- 객체지향 프로그램은 객체(object)의 속성(변수)과 동작(함수)을 나타내는 클래스를 정의하고, 이로부터 객체를 생성(인스턴스화; Instantiation)하여 작성한 프로그램\n",
    "\n",
    "- 클래스와 객체는 풀빵틀과 풀빵의 관계\n",
    "\n",
    "- 클래스의 동작을 나타내는 함수를 메소드(method)라 한다\n",
    "\n",
    "- 클래스는 다른 클래스로부터 상속받을 수 있다.상속 클래스는 부모 클래스가 갖지 않는 속성과 메소드를 가질 수 있다.\n",
    "\n",
    "- 객체는 클래스의 속성과 메소드를 갖는다\n",
    "\n",
    "- 객체는 일반 변수처럼 사용된다. 함수의 인자로 사용되고, 함수에서 객체를 반환할 수도 있다. 튜플이나 딕셔너리의 요소로 사용될 수 있다."
   ]
  },
  {
   "cell_type": "markdown",
   "id": "e17a3bb2",
   "metadata": {},
   "source": [
    "### 클래스 정의"
   ]
  },
  {
   "cell_type": "markdown",
   "id": "1719d6ee",
   "metadata": {},
   "source": [
    "```\n",
    "class 클래스이름(부모 클래스):\n",
    "    클래스 몸체\n",
    "\n",
    "- 클래스는 class 키워드로 정의된다. 부모 클래스는 없으면 생략\n",
    "- 클래스 몸체는 변수와 메소드로 구성\n",
    "```"
   ]
  },
  {
   "cell_type": "markdown",
   "id": "53c093f7",
   "metadata": {},
   "source": [
    "### 클래스 객체"
   ]
  },
  {
   "cell_type": "markdown",
   "id": "f85aa55b",
   "metadata": {},
   "source": [
    "- 클래스를 인스턴스화(instantiation)하여 만들어진 것을 객체(pbject)라 한다.\n",
    "\n",
    "- 객체는 클래스의 변수와 메소드에 접근할 수 있다."
   ]
  },
  {
   "cell_type": "markdown",
   "id": "e9ac553c",
   "metadata": {},
   "source": [
    "```py\n",
    ">>> class Test:\n",
    "...     name = \"홍길동\"\n",
    "... \n",
    ">>> t = Test()\n",
    ">>> print(t.name)\n",
    "홍길동\n",
    "```"
   ]
  },
  {
   "cell_type": "code",
   "execution_count": 4,
   "id": "7c757a41",
   "metadata": {},
   "outputs": [],
   "source": [
    "class Car :\n",
    "    def __init__(self, color, speed):  \n",
    "        self.color = color  \n",
    "        self.speed = speed\n",
    "    def speedUp(self, v):  \n",
    "        self.speed = self.speed + v\n",
    "        return self.speed\n",
    "    def speedDown(self, v):\n",
    "        self.speed = self.speed - v\n",
    "        return self.speed"
   ]
  },
  {
   "cell_type": "markdown",
   "id": "1dd1cb27",
   "metadata": {},
   "source": [
    "- self.variable로 정의된 변수(인스턴스 변수)는 클래스 전체에서 유효하다. 클래스 속성은 인스턴스 변수로 정의한다.\n",
    "\n",
    "- self. 가 없는 변수는 메소드 내에서만 유효한 지역변수이다."
   ]
  },
  {
   "cell_type": "markdown",
   "id": "6fa9d312",
   "metadata": {},
   "source": [
    "### 초기화 함수(__init__())\n",
    "\n",
    "- 객체를 생성할 때 자동실행 메소드\n",
    "\n",
    "- 인스턴스 변수(self.var)를 초기화할 때 사용(초기화 필요가 없으면 생략 가능)\n",
    "\n",
    "- self를 첫 번째 매개변수로 가지며, self는 클래스 객체를 나타낸다.\n",
    "\n",
    "- 인스턴스 변수는 클래스 내부의 모든 메소드에서 사용할 수 있다.\n",
    "\n",
    "```py\n",
    "class Car:\n",
    "    def__init__(self, color, speed):\n",
    "        self.color = color\n",
    "        self.speed = speed\n",
    "```"
   ]
  },
  {
   "cell_type": "markdown",
   "id": "de7903a6",
   "metadata": {},
   "source": [
    "### Car 클래스 객체를 이용한 프로그램\n",
    "\n",
    "- Car클래스 객체 mycar 생성\n",
    "\n",
    "- Car클래스의 color와 speed속성 접근\n",
    "\n",
    "- Car클래스의 speedup()과 speeddown()메소드 호출"
   ]
  }
 ],
 "metadata": {
  "kernelspec": {
   "display_name": ".venv (3.13.3)",
   "language": "python",
   "name": "python3"
  },
  "language_info": {
   "codemirror_mode": {
    "name": "ipython",
    "version": 3
   },
   "file_extension": ".py",
   "mimetype": "text/x-python",
   "name": "python",
   "nbconvert_exporter": "python",
   "pygments_lexer": "ipython3",
   "version": "3.13.3"
  }
 },
 "nbformat": 4,
 "nbformat_minor": 5
}
