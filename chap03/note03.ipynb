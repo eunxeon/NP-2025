{
 "cells": [
  {
   "cell_type": "markdown",
   "id": "3819d0ec",
   "metadata": {},
   "source": [
    "# 3장 노트정리\n",
    "\n",
    "이 파일은 3장 학습하면서 실행한 내용을 정리한 것이다.\n",
    "\n",
    "날짜: 2025.9.22\n",
    "\n",
    "학번: 202311428\n",
    "\n",
    "저자: 이은선"
   ]
  },
  {
   "cell_type": "markdown",
   "id": "e431ce13",
   "metadata": {},
   "source": [
    "## 프로그램 제어문\n",
    "\n",
    "- 프로그램은 작성 순서대로 실행\n",
    "\n",
    "- 제어문: 프로그램의 실행 순서를 바꾸는 문장\n",
    "\n",
    "    - 조건문\n",
    "\n",
    "        - if, if-else, if-elif-else\n",
    "\n",
    "    - 반복문\n",
    "\n",
    "        - while\n",
    "\n",
    "        - for\n",
    "  \n",
    "    - 기타 제어문\n",
    "\n",
    "        - break\n",
    "\n",
    "        - continue"
   ]
  },
  {
   "cell_type": "markdown",
   "id": "e0c71279",
   "metadata": {},
   "source": [
    "## if 제어문"
   ]
  },
  {
   "cell_type": "markdown",
   "id": "0e2825bd",
   "metadata": {},
   "source": [
    "### if 문\n",
    "\n",
    "- 조건을 만족할 때 정해진 문장 블록을 실행\n",
    "- 조건이 참(True)이면 블록을 실행하고 아니면 블록을 건너뛴다"
   ]
  },
  {
   "cell_type": "markdown",
   "id": "09d59e52",
   "metadata": {},
   "source": [
    "```py\n",
    "score = int(input(\"정수 입력:\"))\n",
    "if score >= 90 :\n",
    "    print(\"성적: A\")\n",
    "    print(\"장학금 수여\")\n",
    "\n",
    "age_0 = 22\n",
    "age_1 = 18\n",
    "age = int(input('your age? '))\n",
    "if age < age_0 and age > age_1:\n",
    "    print(\"당신의 나이는 18~22세 사이입니다\")\n",
    "```"
   ]
  },
  {
   "cell_type": "markdown",
   "id": "f0ece520",
   "metadata": {},
   "source": [
    "### if-else 문\n",
    "\n",
    "- 조건이 참(True)이면 Block1을 실행하고 else: 는 무시\n",
    "\n",
    "- 참(True)이 아니면 else: 다음 Block2를 실행\n",
    "\n",
    "```py\n",
    "if score >= 90:\n",
    "    print(\"pass\")\n",
    "else:\n",
    "    print(\"fail\")\n",
    "```\n",
    "\n",
    "- 한 줄로 표현하기\n",
    "\n",
    "```py\n",
    "res = 'pass' if score >= 90 else 'fail'\n",
    "print(res)\n",
    "```"
   ]
  },
  {
   "cell_type": "markdown",
   "id": "fff83bdc",
   "metadata": {},
   "source": [
    "### 평년과 윤년 구분하는 프로그램\n",
    "\n",
    "- 년도가 4로 나뉘어지고 100으로 나뉘어지지 않거나\n",
    "\n",
    "- 400으로 나뉘어지면 윤년이다"
   ]
  },
  {
   "cell_type": "markdown",
   "id": "c439fc38",
   "metadata": {},
   "source": [
    "```py\n",
    "year = int(input(\"Type a year: \"))\n",
    "if(year%4 == 0 and year%100 != 0) or (year%400) == 0:\n",
    "    print(year, \"is a leap year\")\n",
    "else:\n",
    "    print(year, \"is not a leap year\")\n",
    "```"
   ]
  },
  {
   "cell_type": "markdown",
   "id": "535e88f3",
   "metadata": {},
   "source": [
    "### 중첩 if 문 -if 문 속에 또 다른 if 문"
   ]
  },
  {
   "cell_type": "markdown",
   "id": "1bc9f7a6",
   "metadata": {},
   "source": [
    "```py\n",
    "n = int(input(\"type int number:\"))\n",
    "if n > 0:\n",
    "    print(\"positive\")\n",
    "else:\n",
    "    if n < 0:\n",
    "        print(\"negative\")\n",
    "    else:\n",
    "        print(\"0\")\n",
    "```"
   ]
  },
  {
   "cell_type": "markdown",
   "id": "c334e8b4",
   "metadata": {},
   "source": [
    "```py\n",
    "n = int(input(\"type int number:\"))\n",
    "if n >= 0:\n",
    "    if n == 0:\n",
    "        print(\"0\")\n",
    "    else:\n",
    "        print(\"positive\")\n",
    "else:\n",
    "    print(\"negative\")\n",
    "```"
   ]
  },
  {
   "cell_type": "markdown",
   "id": "46c681b1",
   "metadata": {},
   "source": [
    "### if-elif-else 문\n",
    "\n",
    "- if 조건1이 참이면 블록1, if 조건1이 거짓이고 elif 조건2이 참이면 블록2, 조건이 모두 거짓이면 블록3이 실행된다.\n",
    "\n",
    "```py\n",
    "n = int(input(\"type int number:\"))\n",
    "if n > 0:\n",
    "    print(\"positive\")\n",
    "elif n < 0:\n",
    "    print(\"negative\")\n",
    "else:\n",
    "    print(\"0\")\n",
    "```"
   ]
  },
  {
   "cell_type": "markdown",
   "id": "326f5b42",
   "metadata": {},
   "source": [
    "### 다중 elif 문\n",
    "\n",
    "- 여러 개의 elif를 사용한 문장\n",
    "\n",
    "- if 또는 elif 조건 중 하나만 충족되면 나머지는 무시\n",
    "\n",
    "```py\n",
    "age = 12\n",
    "if age < 4:\n",
    "    price = 0\n",
    "elif age < 18:\n",
    "    price = 5\n",
    "elif age < 65:\n",
    "    price = 10\n",
    "else:\n",
    "    price = 5\n",
    "\n",
    "print(\"Your admission cost is $\" + str(price) + \".\")\n",
    "```"
   ]
  },
  {
   "cell_type": "markdown",
   "id": "607aa38d",
   "metadata": {},
   "source": [
    "## while 반복문"
   ]
  },
  {
   "cell_type": "markdown",
   "id": "072650d1",
   "metadata": {},
   "source": [
    "### 조건이 충족되면 동일한 일을 반복 수행\n",
    "\n",
    "- 조건이 만족되면 블록을 실행하고 다시 조건을 조사\n",
    "\n",
    "- 조건이 만족되지 않으면 다음 문장 실행"
   ]
  },
  {
   "cell_type": "markdown",
   "id": "bdc9c01e",
   "metadata": {},
   "source": [
    "```py\n",
    "i = 1\n",
    "sum = 0\n",
    "while i <= 100:\n",
    "    sum = sum + i\n",
    "    i = i + 1\n",
    "\n",
    "print(\"sum=\", sum)\n",
    "```"
   ]
  },
  {
   "cell_type": "markdown",
   "id": "61fc9db9",
   "metadata": {},
   "source": [
    "### 10진수를 입력 받아 2진수로 변환하여 출력하는 프로그램"
   ]
  },
  {
   "cell_type": "markdown",
   "id": "80999128",
   "metadata": {},
   "source": [
    "```py\n",
    "n = int(input('Number: '))\n",
    "result = ''\n",
    "\n",
    "while n != 0:\n",
    "    m = n % 2\n",
    "    result = str(m) + result\n",
    "    n = n //2\n",
    "\n",
    "print(\"2진수 =\",result)\n",
    "```"
   ]
  },
  {
   "cell_type": "markdown",
   "id": "8725b036",
   "metadata": {},
   "source": [
    "## for 제어문"
   ]
  },
  {
   "cell_type": "markdown",
   "id": "7d6778b7",
   "metadata": {},
   "source": [
    "### for문\n",
    "\n",
    "- [반복객체]의 각 요소의 값을 하나씩 [변수]에 저장하고 블록을 실행\n",
    "\n",
    "- [반복객체]에 더 이상의 요소가 없을 때까지 반복\n",
    "\n",
    "```py\n",
    "for i in [1,2,3]:\n",
    "    print(\"숫자\", i)\n",
    "```\n",
    "\n",
    "- 튜플, 문자열과 같은 반복 객체를 사용할 수도 있다.\n",
    "\n",
    "```py\n",
    "for i in (1,2,3):\n",
    "    print(\"숫자\",i)\n",
    "\n",
    "for i in 'hello':\n",
    "    print(i)\n",
    "```"
   ]
  },
  {
   "cell_type": "markdown",
   "id": "21f0f883",
   "metadata": {},
   "source": [
    "### for-range 문\n",
    "\n",
    "- range() 함수는 반복 객체 (iterable)를 생성하는 함수\n",
    "    - range(start, stop, step)\n",
    "    - 예) list(range(1, 5, 1)) -> [1, 2, 3, 4]\n",
    "- 변수 값을 start부터 시작하여 step 만큼 증가시키며 stop 될 때까지 실행. step = 1 이면 생략\n",
    "```py\n",
    "for i in range(1,4,1):\n",
    "    print(\"Number\", i)\n",
    "\n",
    "Number 1\n",
    "Number 2\n",
    "Number 3\n",
    "```"
   ]
  },
  {
   "cell_type": "markdown",
   "id": "5b8580ff",
   "metadata": {},
   "source": [
    "### for 문을 이용한 1부터 100까지의 합 구하기"
   ]
  },
  {
   "cell_type": "markdown",
   "id": "b4434738",
   "metadata": {},
   "source": [
    "```py\n",
    "sum = 0\n",
    "for i in range(1,101,1):\n",
    "    sum = sum + i\n",
    "\n",
    "print(\"sum = \", sum)\n",
    "```"
   ]
  },
  {
   "cell_type": "markdown",
   "id": "9a6f2058",
   "metadata": {},
   "source": [
    "### x^^n을 구하는 프로그램"
   ]
  },
  {
   "cell_type": "markdown",
   "id": "2a3dfd06",
   "metadata": {},
   "source": [
    "```py\n",
    "x = float(input('Type x :'))\n",
    "n = int(input('Type n :'))\n",
    "\n",
    "prod = 1\n",
    "for i in range(1,n+1):\n",
    "    prod = prod * x\n",
    "\n",
    "print(prod)\n",
    "```"
   ]
  },
  {
   "cell_type": "markdown",
   "id": "d6696bc7",
   "metadata": {},
   "source": [
    "### 중첩 반복문\n",
    "\n",
    "- 내부 for문이 먼저 실행되고 끝나면 외부 for문이 실행됨\n",
    "- 구구단 프로그램"
   ]
  },
  {
   "cell_type": "markdown",
   "id": "613e17eb",
   "metadata": {},
   "source": [
    "```py\n",
    "for i in range(2,10,1):\n",
    "    for j in range(1,10,1):\n",
    "        print(\"%d x %d = %d\" %(i,j,i*j))\n",
    "```"
   ]
  },
  {
   "cell_type": "markdown",
   "id": "e61e8f49",
   "metadata": {},
   "source": [
    "### 무한 반복문"
   ]
  },
  {
   "cell_type": "markdown",
   "id": "3e5cddf7",
   "metadata": {},
   "source": [
    "```py\n",
    "while True:\n",
    "    print(\"last forever\")\n",
    "```\n",
    "무한 반복문을 중지하려면 ctrl-C 를 누른다"
   ]
  },
  {
   "cell_type": "markdown",
   "id": "8b56b092",
   "metadata": {},
   "source": [
    "### 제어문 예제(반복문 안의 조건문)"
   ]
  },
  {
   "cell_type": "markdown",
   "id": "6d11d6cb",
   "metadata": {},
   "source": [
    "- 숫자 맞추기 게임 프로그램\n",
    "- 1~100 사이의 난수를 만들고 사용자가 1~100 사이의 수를 입력하여 맞추는 프로그램. 5회까지 맞추지 못하면 종료"
   ]
  },
  {
   "cell_type": "code",
   "execution_count": null,
   "id": "fc332806",
   "metadata": {},
   "outputs": [
    {
     "name": "stdout",
     "output_type": "stream",
     "text": [
      "더 큽니다 4 회 남았습니다.\n",
      "\n",
      "더 큽니다 3 회 남았습니다.\n",
      "\n",
      "더 큽니다 2 회 남았습니다.\n",
      "\n",
      "더 큽니다 1 회 남았습니다.\n",
      "\n"
     ]
    }
   ],
   "source": [
    "from random import randint\n",
    "secret_num = randint(1,100)\n",
    "num_guesses = 0\n",
    "guess = 0\n",
    "while guess != secret_num and num_guesses < 4:\n",
    "    guess = eval(input('Enter your guess (1~100): '))\n",
    "    num_guesses = num_guesses + 1\n",
    "    if guess < secret_num:\n",
    "        print('더 큽니다', 5 - num_guesses, '회 남았습니다.\\n')\n",
    "    elif guess > secret_num:\n",
    "        print('더 작습니다', 5 - num_guesses, '회 남았습니다.\\n')\n",
    "    else:\n",
    "        print('맞았습니다!')\n",
    "        \n",
    "if num_guesses == 5 and guess != secret_num:\n",
    "    print('당신이 졌습니다. 정답은 ', secret_num, '입니다.')"
   ]
  },
  {
   "cell_type": "markdown",
   "id": "4f30f7eb",
   "metadata": {},
   "source": [
    "## 기타 제어문"
   ]
  },
  {
   "cell_type": "markdown",
   "id": "e1b0bcc3",
   "metadata": {},
   "source": [
    "### break 문\n",
    "\n",
    "- 반복문을 빠져나올 때 사용\n",
    "```py\n",
    "n = 10\n",
    "while n >= 10:\n",
    "    break\n",
    "inv = 1.0/n\n",
    "print(inv)\n",
    "n = n - 1 \n",
    "```"
   ]
  },
  {
   "cell_type": "markdown",
   "id": "5789584c",
   "metadata": {},
   "source": [
    "### continue 문\n",
    "\n",
    "- 블록의 나머지 부분은 생략하고 다시 while 조건 조사\n",
    "```py\n",
    "n = 10\n",
    "while n >= -10:\n",
    "    if n == 0:\n",
    "        n = n - 1\n",
    "        continue\n",
    "inv = 1.0/n\n",
    "print(\"n = %d, inv(n) = %0.2f\"%(n,inv))\n",
    "n = n -1\n",
    "```"
   ]
  },
  {
   "cell_type": "markdown",
   "id": "13c02ae8",
   "metadata": {},
   "source": [
    "### Python 3.0 부터 추가: C 에서의 swhitch ~case~ defalt 문장"
   ]
  },
  {
   "cell_type": "code",
   "execution_count": null,
   "id": "528f4b19",
   "metadata": {},
   "outputs": [],
   "source": [
    "match value:\n",
    "    case pattern1:\n",
    "        # 실행할 코드\n",
    "    case pattern2:\n",
    "        # 실행할 코드  \n",
    "    case _: # default case (와일드카드)\n",
    "        # 기본 실행할 코드"
   ]
  },
  {
   "cell_type": "code",
   "execution_count": null,
   "id": "7cbd9148",
   "metadata": {},
   "outputs": [],
   "source": [
    "def handle_status(status):\n",
    "    match status:\n",
    "        case 200:\n",
    "            return \"성공\"\n",
    "        case 404:\n",
    "            return \"페이지를 찾을 수 없음\"\n",
    "        case 500:\n",
    "            return \"서버 오류\" \n",
    "        case _:\n",
    "            return \"알 수 없는 상태\"\n",
    "        \n",
    "print(handle_status(200))  # 성공\n",
    "print(handle_status(999))  # 알 수 없는 상태"
   ]
  }
 ],
 "metadata": {
  "kernelspec": {
   "display_name": ".venv (3.13.3)",
   "language": "python",
   "name": "python3"
  },
  "language_info": {
   "codemirror_mode": {
    "name": "ipython",
    "version": 3
   },
   "file_extension": ".py",
   "mimetype": "text/x-python",
   "name": "python",
   "nbconvert_exporter": "python",
   "pygments_lexer": "ipython3",
   "version": "3.13.3"
  }
 },
 "nbformat": 4,
 "nbformat_minor": 5
}
