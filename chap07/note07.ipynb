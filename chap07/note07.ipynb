{
 "cells": [
  {
   "cell_type": "markdown",
   "id": "ae465e19",
   "metadata": {},
   "source": [
    "# 7장 노트정리\n",
    "\n",
    "이 파일은 7장 학습하면서 실행한 내용을 정리한 것이다.\n",
    "\n",
    "날짜: 2025.9.30\n",
    "\n",
    "학번: 202311428\n",
    "\n",
    "저자: 이은선"
   ]
  },
  {
   "cell_type": "markdown",
   "id": "9b2c2f27",
   "metadata": {},
   "source": []
  },
  {
   "cell_type": "markdown",
   "id": "abc551ec",
   "metadata": {},
   "source": [
    "# 모듈"
   ]
  },
  {
   "cell_type": "markdown",
   "id": "14390c1d",
   "metadata": {},
   "source": []
  }
 ],
 "metadata": {
  "language_info": {
   "name": "python"
  }
 },
 "nbformat": 4,
 "nbformat_minor": 5
}
