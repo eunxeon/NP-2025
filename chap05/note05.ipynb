{
 "cells": [
  {
   "cell_type": "markdown",
   "id": "342faff3",
   "metadata": {},
   "source": [
    "# 5장 노트정리\n",
    "\n",
    "이 파일은 5장 학습하면서 실행한 내용을 정리한 것이다.\n",
    "\n",
    "날짜: 2025.9.23\n",
    "\n",
    "학번: 202311428\n",
    "\n",
    "저자: 이은선"
   ]
  },
  {
   "cell_type": "markdown",
   "id": "a24f2f80",
   "metadata": {},
   "source": [
    "## 함수\n",
    "\n",
    "### 함수란?\n",
    "\n",
    "- 이름을 붙여 반복적으로 사용할 수 있는 프로그램 부분\n",
    "- print(), input(), int(), str() 등\n",
    "\n",
    "### 함수를 사용하는 이유\n",
    "\n",
    "- 프로그램 안에서 중복된 코드를 제거한다\n",
    "- 복잡한프로그래밍작업을더간단한작업들로분해할수있다\n",
    "- 함수는한번만들어지면다른프로그램에서도재사용될수있다.\n",
    "- 함수를사용하면가독성(프로그램의이해)이증대되고, 유지관리도쉬워진다.\n",
    "\n",
    "### 파이썬의함수는일급함수이다. 함수를변수처럼사용\n",
    "\n",
    "- 변수에할당: a = func\n",
    "- 다른함수의인자로전달가능: func1(func)\n",
    "- return 문으로반환가능: return func\n",
    "\n",
    "### 함수의 종류\n",
    "\n",
    "- 내장 함수\n",
    "- 사용자 정의 함수"
   ]
  },
  {
   "cell_type": "markdown",
   "id": "40a2e9cf",
   "metadata": {},
   "source": [
    "### 사용자 정의 함수의 작성"
   ]
  },
  {
   "cell_type": "markdown",
   "id": "380af4e9",
   "metadata": {},
   "source": [
    "```py\n",
    "def 함수이름(매개변수):\n",
    "    문장1\n",
    "    문장2\n",
    "    ...\n",
    "    return 값\n",
    "```"
   ]
  },
  {
   "cell_type": "markdown",
   "id": "9198f934",
   "metadata": {},
   "source": [
    "### 함수의 정의와 호출 예"
   ]
  },
  {
   "cell_type": "markdown",
   "id": "9be43936",
   "metadata": {},
   "source": [
    "```py\n",
    "def welcome(name):\n",
    "    print(\"Hello, \",name)\n",
    "\n",
    "welcome('John')\n",
    "```"
   ]
  },
  {
   "cell_type": "markdown",
   "id": "89703e7c",
   "metadata": {},
   "source": [
    "### 반환 값이 없는 함수"
   ]
  },
  {
   "cell_type": "markdown",
   "id": "fb4bfbd6",
   "metadata": {},
   "source": [
    "```py\n",
    "def prtStr(str):\n",
    "    print(\"%s\" %str)\n",
    "    return\n",
    "\n",
    "str = \"Wecome to Python\"\n",
    "prtStr(str)\n",
    "```"
   ]
  },
  {
   "cell_type": "markdown",
   "id": "1ffbd25f",
   "metadata": {},
   "source": [
    "### 값을 반환하는 함수"
   ]
  },
  {
   "cell_type": "markdown",
   "id": "d67cd6f4",
   "metadata": {},
   "source": [
    "```py\n",
    "def squareArea(s):\n",
    "    area = s * s\n",
    "    return area\n",
    "\n",
    "a = squareArea(5)\n",
    "b = squareArea(7)\n",
    "print(\"한변의 길이가 %d인 정사각형의 넓이는 %d\" %(5,a))\n",
    "print(\"한변의 길이가 %d인 정사각형의 넓이는 %d\" %(7,b))\n",
    "```"
   ]
  },
  {
   "cell_type": "markdown",
   "id": "598e0210",
   "metadata": {},
   "source": [
    "### 1~n까지의 합을 계산하는 함수"
   ]
  },
  {
   "cell_type": "markdown",
   "id": "31a35634",
   "metadata": {},
   "source": [
    "```py\n",
    "def sum(n):\n",
    "    hab = 0\n",
    "    for i in range(1, n+1):\n",
    "        hab = hab + i\n",
    "    return hab\n",
    "\n",
    "a = sum(50)\n",
    "b = sum(1000)\n",
    "print(a)\n",
    "print(b)\n",
    "```"
   ]
  },
  {
   "cell_type": "markdown",
   "id": "042d2698",
   "metadata": {},
   "source": [
    "### 반지름을 전달하면 원의 면적을 반환하는 cir_area(r)함수와 원의 둘레를 반환하는 cir_cirm(r) 함수를 작성하라. 이들 함수를 이용하여 반지름이 3.5cm 인 원의 면적과 둘레를 소수점 아래 첫 자리까지 구하라."
   ]
  },
  {
   "cell_type": "code",
   "execution_count": null,
   "id": "7d16cb6d",
   "metadata": {},
   "outputs": [],
   "source": [
    "import math\n",
    "\n",
    "# 원의 면적을 계산하는 함수\n",
    "def cir_area(r):\n",
    "    return math.pi * r ** 2\n",
    "\n",
    "# 원의 둘레를 계산하는 함수\n",
    "def cir_cirm(r):\n",
    "    return 2 * math.pi * r\n",
    "\n",
    "# 반지름\n",
    "radius = 3.5\n",
    "\n",
    "# 면적과 둘레 계산\n",
    "area = cir_area(radius)\n",
    "circumference = cir_cirm(radius)\n",
    "\n",
    "# 결과 출력 (소수점 아래 첫째 자리까지)\n",
    "print(f\"반지름이 {radius}cm인 원의 면적: {area:.1f}cm²\")\n",
    "print(f\"반지름이 {radius}cm인 원의 둘레: {circumference:.1f}cm\")\n"
   ]
  },
  {
   "cell_type": "markdown",
   "id": "07352401",
   "metadata": {},
   "source": [
    "### 지역 변수(local variable)와 전역 변수(global variable)\n",
    "\n",
    "- 지역 변수: 함수 내에서만 값이 유효\n",
    "- 전역 변수: 프로그램 전체에서 값이 유효\n",
    "- 다음 프로그램에서 v는 지역 변수이다\n",
    "\n",
    "```py\n",
    "#함수 선언부\n",
    "def func1():\n",
    "    v = 10\n",
    "    print(\"func1()의 v = %d\"%v)\n",
    "\n",
    "def func2():\n",
    "    v = 20\n",
    "    print(\"func2()의 v = %d\"%v)\n",
    "\n",
    "#메인 코드 부분\n",
    "func1()\n",
    "func2()\n",
    "```"
   ]
  },
  {
   "cell_type": "markdown",
   "id": "d15a9d6e",
   "metadata": {},
   "source": [
    "### 전역 변수의 유효 범위"
   ]
  },
  {
   "cell_type": "markdown",
   "id": "b4681b85",
   "metadata": {},
   "source": [
    "```py\n",
    "#함수 선언부\n",
    "def func1():\n",
    "    v = 10\n",
    "    print(\"func1()의 v = %d\" %v)\n",
    "\n",
    "def func2():\n",
    "    print(\"func2()의 v = %d\" %v)\n",
    "\n",
    "#전역변수\n",
    "v = 20\n",
    "\n",
    "#메인 코드 부분\n",
    "func1()\n",
    "func2()\n",
    "```"
   ]
  },
  {
   "cell_type": "markdown",
   "id": "db5daf31",
   "metadata": {},
   "source": [
    "### 전역 변수의 선언"
   ]
  },
  {
   "cell_type": "markdown",
   "id": "95780c26",
   "metadata": {},
   "source": [
    "```py\n",
    "#함수 선언부\n",
    "def func1():\n",
    "    v = 10\n",
    "    print(\"func1()의 v = %d\" %v)\n",
    "\n",
    "def func2():\n",
    "    global v\n",
    "    v = 30\n",
    "    print(\"func2()의 변경된 전역 v = %d\" %v)\n",
    "\n",
    "#전역변수\n",
    "v = 20\n",
    "\n",
    "#메인 코드 부분\n",
    "func1() #10\n",
    "func2() #30\n",
    "print(v)    #30\n",
    "```"
   ]
  },
  {
   "cell_type": "markdown",
   "id": "b2edf62a",
   "metadata": {},
   "source": [
    "### 매개변수의 기본값 지정(기본 매개변수)"
   ]
  },
  {
   "cell_type": "code",
   "execution_count": 1,
   "id": "057d04cc",
   "metadata": {},
   "outputs": [
    {
     "name": "stdout",
     "output_type": "stream",
     "text": [
      "default\n",
      "Hi!Hi!Hi!Hi!Hi!\n"
     ]
    }
   ],
   "source": [
    "def prtMesg(message, count=1):\n",
    "    print(message * count)\n",
    "prtMesg('default')\n",
    "prtMesg('Hi!', 5)"
   ]
  },
  {
   "cell_type": "code",
   "execution_count": 2,
   "id": "56be2f15",
   "metadata": {},
   "outputs": [
    {
     "name": "stdout",
     "output_type": "stream",
     "text": [
      "Hi! Abe, Nothing new?\n",
      "Hi! Bob, Good morning!\n"
     ]
    }
   ],
   "source": [
    "def greet(name, msg=\"Nothing new?\"):\n",
    "    print(\"Hi!\", name + ', ' + msg)\n",
    "greet(\"Abe\")\n",
    "greet(\"Bob\", \"Good morning!\")"
   ]
  },
  {
   "cell_type": "markdown",
   "id": "e70a59a9",
   "metadata": {},
   "source": [
    "### 일반(위치) 매개변수의 값을 전달하지 않으면 오류"
   ]
  },
  {
   "cell_type": "markdown",
   "id": "a27e7927",
   "metadata": {},
   "source": [
    "```py\n",
    ">>> prtMesg(count = 3)\n",
    "Traceback (most recent call last):\n",
    "  File \"<stdin>\", line 1, in <module>\n",
    "    import platform\n",
    "    ^^^^^^^\n",
    "NameError: name 'prtMesg' is not defined\n",
    "```"
   ]
  },
  {
   "cell_type": "markdown",
   "id": "698d85c5",
   "metadata": {},
   "source": [
    "### 가변 매개변수-매개변수의 개수가 가변일 때\n",
    "- 매개변수가 *arg로 표시되면 튜플로 처리\n",
    "\n",
    "```py\n",
    "def total(*numbers):\n",
    "    sum = 0\n",
    "    for n in numbers:\n",
    "        sum += n\n",
    "    return sum\n",
    "print(total(1,2,3))\n",
    "print(total(1,2,3,4,5))    \n",
    "```"
   ]
  },
  {
   "cell_type": "markdown",
   "id": "8e3c3ccb",
   "metadata": {},
   "source": [
    "### 매개변수가 **keywords로 표시되면 딕셔너리로 처리"
   ]
  },
  {
   "cell_type": "code",
   "execution_count": null,
   "id": "cb09e569",
   "metadata": {},
   "outputs": [],
   "source": [
    "def dicPresident(**kwargs):\n",
    "    for i in keywords.keys():\n",
    "        print(\"%s : %d-th president\" % (keywords[i]))\n",
    "        \n",
    "dicPresident(Kennedy=35, Obama=44, Trump=45)"
   ]
  },
  {
   "cell_type": "markdown",
   "id": "4d15b173",
   "metadata": {},
   "source": [
    "### 키워드를 이용한 매개변수 전달\n",
    "- 매개변수의 위치가 아니라 키워드를 이용하여 매개변수 전달\n",
    "```py\n",
    "def func(a, b=2, c=3):\n",
    "    print('a=',a,'b=',b,'c=',c)\n",
    "    return a + b + c\n",
    "print(func(4,5))\n",
    "print(func(5,c=7))\n",
    "```"
   ]
  },
  {
   "cell_type": "markdown",
   "id": "ed6df18b",
   "metadata": {},
   "source": [
    "### 람다(무명) 함수\n",
    "\n",
    "- 이름이 없는 한 줄짜리 함수\n",
    "- lambda parameters: expr <- lambda 함수의정의\n",
    "- parameters는 매개변수, expr는 결과가 return되는 수식\n",
    "- lambda x, y: x + y <- 매개변수 x, y를 전달받아x + y를 리턴\n",
    "```py\n",
    "sum = lambda x, y: x+y\n",
    "print(\"정수의 합: \", sum(10, 20))\n",
    "print(\"정수의 합: \", sum(20, 20))\n",
    "```\n",
    "- 두 개 이상의 값을 리턴하려면 튜플, 리스트 사용\n",
    "- lambda x, y: (x + y, x * y) <- (x + y, x * y) 튜플을 반환\n",
    "- 람다 함수의 호출\n",
    "```py\n",
    ">>> (lambda x, y: x + y)(1, 2)\n",
    "3\n",
    "```"
   ]
  },
  {
   "cell_type": "markdown",
   "id": "8ed9a26f",
   "metadata": {},
   "source": [
    "### 재귀 함수(recursion function)\n",
    "\n",
    "- 함수 내에서 자기 자신을 호출하는 함수\n",
    "- 같은 동작을 반복할 때 재귀 함수 사용\n",
    "- 함수가 종료되는 조건을 반드시 포함해야 한다\n",
    "- factorial(n!)을 구하는 재귀 함수"
   ]
  },
  {
   "cell_type": "markdown",
   "id": "44b10c3a",
   "metadata": {},
   "source": [
    "```py\n",
    "def fact(n):\n",
    "    if n==1: 재귀함수종료조건. n=0이면종료\n",
    "        return 1\n",
    "    else:\n",
    "        return n*fact(n-1) n! = n x (n-1)!\n",
    "\n",
    "print(fact(5))\n",
    "```"
   ]
  },
  {
   "cell_type": "markdown",
   "id": "ad48f139",
   "metadata": {},
   "source": [
    "## 내장 함수"
   ]
  },
  {
   "cell_type": "markdown",
   "id": "e3e6ef86",
   "metadata": {},
   "source": [
    "### eval\n",
    "\n",
    "- eval(expr,[globals[,locals]])\n",
    "- 문자열로 표시된 expr의 계산 결과를 반환. 계산할 수 없으면 오류\n",
    "\n",
    "```py\n",
    ">>> eval('1+2*3')\n",
    "7\n",
    "```"
   ]
  },
  {
   "cell_type": "markdown",
   "id": "111da461",
   "metadata": {},
   "source": [
    "### int  bin, oct, hex\n",
    "\n",
    "- int(str, base=10)\n",
    "- 문자열 str을 10진수로 변환\n",
    "```py\n",
    ">>> int('123')\n",
    "123\n",
    ">>> int('1010', 2) #'1010'을 2진수로이해\n",
    "10\n",
    "```"
   ]
  },
  {
   "cell_type": "markdown",
   "id": "eed1cdf4",
   "metadata": {},
   "source": [
    "### filter\n",
    "\n",
    "- filter(func,seq)\n",
    "- seq의 각 요소에 대해 func를 호출하여 결과 True인 요소만 모아서 iterable로 반환\n",
    "```py\n",
    ">>> list(filter(lambda x: len(x)>2, ['this', 'is', 'a', 'test']))\n",
    "['this', 'test'] #리스트요소중에서길이가2보다큰요소만모음\n",
    "```"
   ]
  },
  {
   "cell_type": "markdown",
   "id": "193bfdf6",
   "metadata": {},
   "source": [
    "### map\n",
    "\n",
    "- map(func, seq, ...)\n",
    "- seq의 각 요소에 대해 func를 호출하여 실행하고 결과를 iterable로 반환\n",
    "```py\n",
    "def Squares(n):\n",
    "    return n**2\n",
    "numbers = [1,3,5,9]\n",
    "#Squares 함수에numbers 요소를하나씩대입\n",
    "print(map(Squares, numbers))\n",
    "```"
   ]
  },
  {
   "cell_type": "markdown",
   "id": "d42976ec",
   "metadata": {},
   "source": [
    "### ord (반대: chr)\n",
    "\n",
    "- ord(ch) – ordinal 의 약자(순서가 있는 정수값)\n",
    "- Ch에 대한 ASCII 코드 반환(유니코드 문자)\n",
    "- ord('A') -> 65\n",
    "- hex(ord(“한”)) → 0xd55c"
   ]
  },
  {
   "cell_type": "markdown",
   "id": "3d2e2f4b",
   "metadata": {},
   "source": [
    "### repr\n",
    "\n",
    "- repr(obj) (유니코드 문자도 가능)\n",
    "- obj를 문자열로 변환\n",
    "- repr(b'0011') -> \"b'0011’”"
   ]
  },
  {
   "cell_type": "markdown",
   "id": "bfbd1359",
   "metadata": {},
   "source": [
    "### round\n",
    "\n",
    "- round(x, n=0)\n",
    "- 실수 x를 소수점 아래 n자리로 반올림하여 반환\n",
    "```py\n",
    ">>> round(12.345, 1)\n",
    "12.3\n",
    ">>> round(12.345, 2)\n",
    "12.35\n",
    "```"
   ]
  },
  {
   "cell_type": "markdown",
   "id": "d86f4b04",
   "metadata": {},
   "source": [
    "### zip\n",
    "\n",
    "- zip(seq, *seqs)\n",
    "- seq요소와 *seqs요소의 튜플 쌍으로 만들어 리스트 iterable 반환\n",
    "```py\n",
    "names = ['Peter Parker', 'Clark Kent', 'Wade Wilson', 'Bruce Wayne']\n",
    "heroes = ['Spiderman', 'Superman', 'Deadpool', 'Batman']\n",
    "for name, hero in zip(names, heroes):\n",
    "    print(f'{name} is actually {hero}’)\n",
    "list(zip(names,heroes))\n",
    "```"
   ]
  },
  {
   "cell_type": "markdown",
   "id": "aa809b36",
   "metadata": {},
   "source": [
    "## 타입이 있는 함수와 변수 정의"
   ]
  },
  {
   "cell_type": "markdown",
   "id": "30011281",
   "metadata": {},
   "source": [
    "### 동적 변수 타입, 함수의 반환 타입이 기본\n",
    "- 예) 기본적으로 타입을 명시하지 않아도 알아서 타입을 추론"
   ]
  },
  {
   "cell_type": "code",
   "execution_count": null,
   "id": "b2fbb99e",
   "metadata": {},
   "outputs": [],
   "source": [
    "def add(a, b):\n",
    "    return a + b\n",
    "\n",
    "def greet(name):\n",
    "    return \"Hello, {name}!\"\n",
    "\n",
    "def get_list():\n",
    "    return [1, 2, 3]"
   ]
  },
  {
   "cell_type": "markdown",
   "id": "55c179b5",
   "metadata": {},
   "source": [
    "### 명시적 변수 타입, 함수의 반환 타입이 기본\n",
    "\n",
    "- 예) 정확한 계산이 필요할 경우에 타입힌트(hint)를 통해서 가독성과 유지보수성 향상"
   ]
  },
  {
   "cell_type": "code",
   "execution_count": null,
   "id": "c5d1c6b8",
   "metadata": {},
   "outputs": [],
   "source": [
    "def add(a: int, b: int) -> int:\n",
    "    return a + b\n",
    "\n",
    "def greet(name: str) -> str:\n",
    "    return \"Hello, {name}!\"\n",
    "\n",
    "def get_list() -> list:\n",
    "    return [1, 2, 3]"
   ]
  },
  {
   "cell_type": "markdown",
   "id": "07a7708a",
   "metadata": {},
   "source": [
    "### 타입힌트\n",
    "\n",
    "- Python 3.5버전(2015년 9월 이후 지원하기 시작함)\n",
    "- 그 이전 버전의 코드에는 타입을 지정할 수 없음"
   ]
  },
  {
   "cell_type": "markdown",
   "id": "de531679",
   "metadata": {},
   "source": [
    "### 타입힌트의 장점\n",
    "\n",
    "- 코드의 가독성 향상: 함수의 입력값과 반환값 타입을 명확히 하여 코드 이해가 쉬워집니다.\n",
    "- 버그 예방: 타입 불일치로 인한 오류를 사전에 발견할 수 있습니다.\n",
    "- 도구 지원: 타입 검사 도구(mypy 등)를 활용해 정적 분석이 가능해집니다.\n",
    "- 대규모 프로젝트에서 유지보수성 강화: 여러 개발자가 협업할 때 타입 정보를 통해 의도를 명확히 전달할 수 있습니다"
   ]
  },
  {
   "cell_type": "markdown",
   "id": "acadaede",
   "metadata": {},
   "source": []
  }
 ],
 "metadata": {
  "kernelspec": {
   "display_name": ".venv (3.13.3)",
   "language": "python",
   "name": "python3"
  },
  "language_info": {
   "codemirror_mode": {
    "name": "ipython",
    "version": 3
   },
   "file_extension": ".py",
   "mimetype": "text/x-python",
   "name": "python",
   "nbconvert_exporter": "python",
   "pygments_lexer": "ipython3",
   "version": "3.13.3"
  }
 },
 "nbformat": 4,
 "nbformat_minor": 5
}
