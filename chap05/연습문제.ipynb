{
 "cells": [
  {
   "cell_type": "markdown",
   "id": "17325461",
   "metadata": {},
   "source": [
    "# 5장 리스트 연습문제"
   ]
  },
  {
   "cell_type": "markdown",
   "id": "494eaa52",
   "metadata": {},
   "source": [
    "1. 두 개의 매개변수 n, m을 전달받아 m x n개의 * 상자를 출력하는 프로그램을 함수로 작성 \n",
    "\n",
    "예: 2, 4 → **** ****"
   ]
  },
  {
   "cell_type": "code",
   "execution_count": 1,
   "id": "ad91227c",
   "metadata": {},
   "outputs": [
    {
     "name": "stdout",
     "output_type": "stream",
     "text": [
      "****\n",
      "****\n"
     ]
    }
   ],
   "source": [
    "def print_box(n, m):\n",
    "    for _ in range(n):\n",
    "        print('*' * m)\n",
    "\n",
    "print_box(2, 4)"
   ]
  },
  {
   "cell_type": "markdown",
   "id": "f2296694",
   "metadata": {},
   "source": [
    "2. 하나의 숫자를 전달받아 숫자의 자리 합을 구하는 함수를 작성\n",
    "\n",
    "예: 123 → 1+2+3 = 6"
   ]
  },
  {
   "cell_type": "code",
   "execution_count": 3,
   "id": "22e052dd",
   "metadata": {},
   "outputs": [
    {
     "name": "stdout",
     "output_type": "stream",
     "text": [
      "6\n"
     ]
    }
   ],
   "source": [
    "def digit_sum(number):\n",
    "    return sum(int(d) for d in str(number))\n",
    "\n",
    "print(digit_sum(123))"
   ]
  },
  {
   "cell_type": "markdown",
   "id": "4739716c",
   "metadata": {},
   "source": [
    "3. 두 개의 문자열이 서로 다른 처음 위치를 반환하는 함수를 작성. 두 개의 문자열이 같으면 -1을 반환"
   ]
  },
  {
   "cell_type": "code",
   "execution_count": null,
   "id": "94ae8c53",
   "metadata": {},
   "outputs": [],
   "source": [
    "def first_diff_index(str1, str2):\n",
    "    min_len = min(len(str1), len(str2))\n",
    "    for i in range(min_len):\n",
    "        if str1[i] != str2[i]:\n",
    "            return i\n",
    "    if len(str1) != len(str2):\n",
    "        return min_len\n",
    "    return -1\n",
    "\n",
    "print(first_diff_index(\"hello\", \"heLlo\"))  \n",
    "print(first_diff_index(\"test\", \"test\"))    "
   ]
  },
  {
   "cell_type": "markdown",
   "id": "374e2b2f",
   "metadata": {},
   "source": [
    "4. 숫자를 전달받아 그 수의 약수를 리스트로 반환하는 함수를 작성"
   ]
  },
  {
   "cell_type": "code",
   "execution_count": null,
   "id": "0a5ba886",
   "metadata": {},
   "outputs": [],
   "source": [
    "def get_divisors(n):\n",
    "    return [i for i in range(1, n + 1) if n % i == 0]\n",
    "\n",
    "print(get_divisors(12)) "
   ]
  },
  {
   "cell_type": "markdown",
   "id": "83209493",
   "metadata": {},
   "source": [
    "5. 문자열과 하나의 문자를 전달받아 문자열에서 문자의 위치를 모두 찾아 리스트로 반환하는 함수를 작성"
   ]
  },
  {
   "cell_type": "code",
   "execution_count": null,
   "id": "da31c8a6",
   "metadata": {},
   "outputs": [],
   "source": [
    "def find_char_positions(s, ch):\n",
    "    return [i for i, c in enumerate(s) if c == ch]\n",
    "\n",
    "print(find_char_positions(\"banana\", \"a\")) "
   ]
  },
  {
   "cell_type": "markdown",
   "id": "219756fd",
   "metadata": {},
   "source": [
    "6. 재귀 함수를 이용하여 1부터 100까지의 합을 계산하는 프로그램"
   ]
  },
  {
   "cell_type": "code",
   "execution_count": null,
   "id": "1904e06b",
   "metadata": {},
   "outputs": [],
   "source": [
    "def recursive_sum(n):\n",
    "    if n == 1:\n",
    "        return 1\n",
    "    return n + recursive_sum(n - 1)\n",
    "\n",
    "print(recursive_sum(100))  "
   ]
  }
 ],
 "metadata": {
  "kernelspec": {
   "display_name": ".venv (3.13.3)",
   "language": "python",
   "name": "python3"
  },
  "language_info": {
   "codemirror_mode": {
    "name": "ipython",
    "version": 3
   },
   "file_extension": ".py",
   "mimetype": "text/x-python",
   "name": "python",
   "nbconvert_exporter": "python",
   "pygments_lexer": "ipython3",
   "version": "3.13.3"
  }
 },
 "nbformat": 4,
 "nbformat_minor": 5
}
